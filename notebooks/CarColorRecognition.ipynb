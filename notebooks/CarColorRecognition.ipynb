{
 "cells": [
  {
   "cell_type": "markdown",
   "metadata": {
    "id": "PPWQbd_GWBoH"
   },
   "source": [
    "##Vamos começar instalando e importando oque será necessario\n"
   ]
  },
  {
   "cell_type": "code",
   "execution_count": 2,
   "metadata": {
    "colab": {
     "base_uri": "https://localhost:8080/"
    },
    "id": "_DxW4TaxWDe3",
    "outputId": "69becb55-0d7f-40c2-8bfb-1aba0cb3dd68"
   },
   "outputs": [
    {
     "name": "stdout",
     "output_type": "stream",
     "text": [
      "Requirement already satisfied: ultralytics in c:\\users\\guilh\\anaconda3\\lib\\site-packages (8.3.70)\n",
      "Requirement already satisfied: opencv-python in c:\\users\\guilh\\anaconda3\\lib\\site-packages (4.11.0.86)\n",
      "Requirement already satisfied: matplotlib in c:\\users\\guilh\\anaconda3\\lib\\site-packages (3.9.2)\n",
      "Requirement already satisfied: gdown in c:\\users\\guilh\\anaconda3\\lib\\site-packages (5.2.0)\n",
      "Requirement already satisfied: numpy<=2.1.1,>=1.23.0 in c:\\users\\guilh\\anaconda3\\lib\\site-packages (from ultralytics) (1.26.4)\n",
      "Requirement already satisfied: pillow>=7.1.2 in c:\\users\\guilh\\anaconda3\\lib\\site-packages (from ultralytics) (10.4.0)\n",
      "Requirement already satisfied: pyyaml>=5.3.1 in c:\\users\\guilh\\anaconda3\\lib\\site-packages (from ultralytics) (6.0.1)\n",
      "Requirement already satisfied: requests>=2.23.0 in c:\\users\\guilh\\anaconda3\\lib\\site-packages (from ultralytics) (2.32.3)\n",
      "Requirement already satisfied: scipy>=1.4.1 in c:\\users\\guilh\\anaconda3\\lib\\site-packages (from ultralytics) (1.13.1)\n",
      "Requirement already satisfied: torch>=1.8.0 in c:\\users\\guilh\\anaconda3\\lib\\site-packages (from ultralytics) (2.6.0)\n",
      "Requirement already satisfied: torchvision>=0.9.0 in c:\\users\\guilh\\anaconda3\\lib\\site-packages (from ultralytics) (0.21.0)\n",
      "Requirement already satisfied: tqdm>=4.64.0 in c:\\users\\guilh\\anaconda3\\lib\\site-packages (from ultralytics) (4.66.5)\n",
      "Requirement already satisfied: psutil in c:\\users\\guilh\\anaconda3\\lib\\site-packages (from ultralytics) (5.9.0)\n",
      "Requirement already satisfied: py-cpuinfo in c:\\users\\guilh\\anaconda3\\lib\\site-packages (from ultralytics) (9.0.0)\n",
      "Requirement already satisfied: pandas>=1.1.4 in c:\\users\\guilh\\anaconda3\\lib\\site-packages (from ultralytics) (2.2.2)\n",
      "Requirement already satisfied: seaborn>=0.11.0 in c:\\users\\guilh\\anaconda3\\lib\\site-packages (from ultralytics) (0.13.2)\n",
      "Requirement already satisfied: ultralytics-thop>=2.0.0 in c:\\users\\guilh\\anaconda3\\lib\\site-packages (from ultralytics) (2.0.14)\n",
      "Requirement already satisfied: contourpy>=1.0.1 in c:\\users\\guilh\\anaconda3\\lib\\site-packages (from matplotlib) (1.2.0)\n",
      "Requirement already satisfied: cycler>=0.10 in c:\\users\\guilh\\anaconda3\\lib\\site-packages (from matplotlib) (0.11.0)\n",
      "Requirement already satisfied: fonttools>=4.22.0 in c:\\users\\guilh\\anaconda3\\lib\\site-packages (from matplotlib) (4.51.0)\n",
      "Requirement already satisfied: kiwisolver>=1.3.1 in c:\\users\\guilh\\anaconda3\\lib\\site-packages (from matplotlib) (1.4.4)\n",
      "Requirement already satisfied: packaging>=20.0 in c:\\users\\guilh\\anaconda3\\lib\\site-packages (from matplotlib) (24.1)\n",
      "Requirement already satisfied: pyparsing>=2.3.1 in c:\\users\\guilh\\anaconda3\\lib\\site-packages (from matplotlib) (3.1.2)\n",
      "Requirement already satisfied: python-dateutil>=2.7 in c:\\users\\guilh\\anaconda3\\lib\\site-packages (from matplotlib) (2.9.0.post0)\n",
      "Requirement already satisfied: beautifulsoup4 in c:\\users\\guilh\\anaconda3\\lib\\site-packages (from gdown) (4.12.3)\n",
      "Requirement already satisfied: filelock in c:\\users\\guilh\\anaconda3\\lib\\site-packages (from gdown) (3.13.1)\n",
      "Requirement already satisfied: pytz>=2020.1 in c:\\users\\guilh\\anaconda3\\lib\\site-packages (from pandas>=1.1.4->ultralytics) (2024.1)\n",
      "Requirement already satisfied: tzdata>=2022.7 in c:\\users\\guilh\\anaconda3\\lib\\site-packages (from pandas>=1.1.4->ultralytics) (2023.3)\n",
      "Requirement already satisfied: six>=1.5 in c:\\users\\guilh\\anaconda3\\lib\\site-packages (from python-dateutil>=2.7->matplotlib) (1.16.0)\n",
      "Requirement already satisfied: charset-normalizer<4,>=2 in c:\\users\\guilh\\anaconda3\\lib\\site-packages (from requests>=2.23.0->ultralytics) (3.3.2)\n",
      "Requirement already satisfied: idna<4,>=2.5 in c:\\users\\guilh\\anaconda3\\lib\\site-packages (from requests>=2.23.0->ultralytics) (3.7)\n",
      "Requirement already satisfied: urllib3<3,>=1.21.1 in c:\\users\\guilh\\anaconda3\\lib\\site-packages (from requests>=2.23.0->ultralytics) (2.2.3)\n",
      "Requirement already satisfied: certifi>=2017.4.17 in c:\\users\\guilh\\anaconda3\\lib\\site-packages (from requests>=2.23.0->ultralytics) (2024.12.14)\n",
      "Requirement already satisfied: typing-extensions>=4.10.0 in c:\\users\\guilh\\anaconda3\\lib\\site-packages (from torch>=1.8.0->ultralytics) (4.11.0)\n",
      "Requirement already satisfied: networkx in c:\\users\\guilh\\anaconda3\\lib\\site-packages (from torch>=1.8.0->ultralytics) (3.3)\n",
      "Requirement already satisfied: jinja2 in c:\\users\\guilh\\anaconda3\\lib\\site-packages (from torch>=1.8.0->ultralytics) (3.1.4)\n",
      "Requirement already satisfied: fsspec in c:\\users\\guilh\\anaconda3\\lib\\site-packages (from torch>=1.8.0->ultralytics) (2024.6.1)\n",
      "Requirement already satisfied: setuptools in c:\\users\\guilh\\anaconda3\\lib\\site-packages (from torch>=1.8.0->ultralytics) (75.1.0)\n",
      "Requirement already satisfied: sympy==1.13.1 in c:\\users\\guilh\\anaconda3\\lib\\site-packages (from torch>=1.8.0->ultralytics) (1.13.1)\n",
      "Requirement already satisfied: mpmath<1.4,>=1.1.0 in c:\\users\\guilh\\anaconda3\\lib\\site-packages (from sympy==1.13.1->torch>=1.8.0->ultralytics) (1.3.0)\n",
      "Requirement already satisfied: colorama in c:\\users\\guilh\\anaconda3\\lib\\site-packages (from tqdm>=4.64.0->ultralytics) (0.4.6)\n",
      "Requirement already satisfied: soupsieve>1.2 in c:\\users\\guilh\\anaconda3\\lib\\site-packages (from beautifulsoup4->gdown) (2.5)\n",
      "Requirement already satisfied: PySocks!=1.5.7,>=1.5.6 in c:\\users\\guilh\\anaconda3\\lib\\site-packages (from requests[socks]->gdown) (1.7.1)\n",
      "Requirement already satisfied: MarkupSafe>=2.0 in c:\\users\\guilh\\anaconda3\\lib\\site-packages (from jinja2->torch>=1.8.0->ultralytics) (2.1.3)\n"
     ]
    }
   ],
   "source": [
    "# Instalar as dependências\n",
    "!pip install ultralytics opencv-python matplotlib gdown\n"
   ]
  },
  {
   "cell_type": "code",
   "execution_count": 6,
   "metadata": {
    "colab": {
     "base_uri": "https://localhost:8080/"
    },
    "id": "Grn8vA09WYLK",
    "outputId": "61453390-2eee-4c64-c42c-2d964d586478",
    "scrolled": true
   },
   "outputs": [
    {
     "name": "stdout",
     "output_type": "stream",
     "text": [
      "Collecting kagglehub\n",
      "  Using cached kagglehub-0.3.6-py3-none-any.whl.metadata (30 kB)\n",
      "Requirement already satisfied: packaging in c:\\users\\guilh\\anaconda3\\lib\\site-packages (from kagglehub) (24.1)\n",
      "Requirement already satisfied: requests in c:\\users\\guilh\\anaconda3\\lib\\site-packages (from kagglehub) (2.32.3)\n",
      "Requirement already satisfied: tqdm in c:\\users\\guilh\\anaconda3\\lib\\site-packages (from kagglehub) (4.66.5)\n",
      "Requirement already satisfied: charset-normalizer<4,>=2 in c:\\users\\guilh\\anaconda3\\lib\\site-packages (from requests->kagglehub) (3.3.2)\n",
      "Requirement already satisfied: idna<4,>=2.5 in c:\\users\\guilh\\anaconda3\\lib\\site-packages (from requests->kagglehub) (3.7)\n",
      "Requirement already satisfied: urllib3<3,>=1.21.1 in c:\\users\\guilh\\anaconda3\\lib\\site-packages (from requests->kagglehub) (2.2.3)\n",
      "Requirement already satisfied: certifi>=2017.4.17 in c:\\users\\guilh\\anaconda3\\lib\\site-packages (from requests->kagglehub) (2024.12.14)\n",
      "Requirement already satisfied: colorama in c:\\users\\guilh\\anaconda3\\lib\\site-packages (from tqdm->kagglehub) (0.4.6)\n",
      "Using cached kagglehub-0.3.6-py3-none-any.whl (51 kB)\n",
      "Installing collected packages: kagglehub\n",
      "Successfully installed kagglehub-0.3.6\n",
      "Path to dataset files: C:\\Users\\guilh\\.cache\\kagglehub\\datasets\\landrykezebou\\vcor-vehicle-color-recognition-dataset\\versions\\1\n"
     ]
    }
   ],
   "source": [
    "#Importanto o dataset\n",
    "!pip install kagglehub\n",
    "import kagglehub\n",
    "\n",
    "# Download latest version\n",
    "path = kagglehub.dataset_download(\"landrykezebou/vcor-vehicle-color-recognition-dataset\")\n",
    "\n",
    "print(\"Path to dataset files:\", path)"
   ]
  },
  {
   "cell_type": "code",
   "execution_count": 10,
   "metadata": {},
   "outputs": [
    {
     "name": "stdout",
     "output_type": "stream",
     "text": [
      "Dataset movido para: C:\\Users\\guilh\\OneDrive\\Documentos\\GitHub\\car-color-recognition\\dataset\n"
     ]
    }
   ],
   "source": [
    "import shutil\n",
    "import os\n",
    "\n",
    "# Caminho onde o dataset foi baixado\n",
    "original_path = r\"C:\\Users\\guilh\\.cache\\kagglehub\\datasets\\landrykezebou\\vcor-vehicle-color-recognition-dataset\\versions\\1\"\n",
    "\n",
    "# Novo caminho onde você deseja salvar o dataset\n",
    "new_path = r\"C:\\Users\\guilh\\OneDrive\\Documentos\\GitHub\\car-color-recognition\\dataset\"\n",
    "\n",
    "# Mover o dataset para o novo diretório\n",
    "shutil.move(original_path, new_path)\n",
    "\n",
    "print(f\"Dataset movido para: {new_path}\")"
   ]
  },
  {
   "cell_type": "markdown",
   "metadata": {
    "id": "YUgg8QGZbloR"
   },
   "source": [
    "## Verificando o dataset e adptando o para o modelo Yolo\n"
   ]
  },
  {
   "cell_type": "code",
   "execution_count": 16,
   "metadata": {
    "colab": {
     "base_uri": "https://localhost:8080/"
    },
    "collapsed": true,
    "id": "w4Xhyw4bWZUl",
    "jupyter": {
     "outputs_hidden": true
    },
    "outputId": "43ad01e6-76cb-49ec-c4f7-be30c38d2873"
   },
   "outputs": [
    {
     "name": "stdout",
     "output_type": "stream",
     "text": [
      "Root: C:\\Users\\guilh\\OneDrive\\Documentos\\GitHub\\car-color-recognition\\dataset\\1\n",
      "Dirs: ['test', 'train', 'val']\n",
      "Files: []\n",
      "Root: C:\\Users\\guilh\\OneDrive\\Documentos\\GitHub\\car-color-recognition\\dataset\\1\\test\n",
      "Dirs: ['beige', 'black', 'blue', 'brown', 'gold', 'green', 'grey', 'orange', 'pink', 'purple', 'red', 'silver', 'tan', 'white', 'yellow']\n",
      "Files: []\n",
      "Root: C:\\Users\\guilh\\OneDrive\\Documentos\\GitHub\\car-color-recognition\\dataset\\1\\test\\beige\n",
      "Dirs: []\n",
      "Files: ['02e37c0e56.jpg', '05aeb6ddec.jpg', '0b01008bee.jpg', '0c3bb456ee.jpg', '0e491569c8.jpg']\n",
      "Root: C:\\Users\\guilh\\OneDrive\\Documentos\\GitHub\\car-color-recognition\\dataset\\1\\test\\black\n",
      "Dirs: []\n",
      "Files: ['019301dea8.jpg', '070ed15b67.jpg', '0ea1f11a35.jpg', '10f08e9178.jpg', '1e01b3da2b.jpg']\n",
      "Root: C:\\Users\\guilh\\OneDrive\\Documentos\\GitHub\\car-color-recognition\\dataset\\1\\test\\blue\n",
      "Dirs: []\n",
      "Files: ['00be3db68c.jpg', '01401b6d76.jpg', '0440c22324.jpg', '05ed632b0c.jpg', '080863fed8.jpg']\n",
      "Root: C:\\Users\\guilh\\OneDrive\\Documentos\\GitHub\\car-color-recognition\\dataset\\1\\test\\brown\n",
      "Dirs: []\n",
      "Files: ['01d115453d.jpg', '0a84ca794f - Copy.jpg', '0babeb88a2.jpg', '0cef664e53.jpg', '132d955820.jpg']\n",
      "Root: C:\\Users\\guilh\\OneDrive\\Documentos\\GitHub\\car-color-recognition\\dataset\\1\\test\\gold\n",
      "Dirs: []\n",
      "Files: ['0661852523.jpg', '0927b1412e.jpg', '0dd82921f0.jpg', '17795b1eac.jpg', '19dd803ab7.jpg']\n",
      "Root: C:\\Users\\guilh\\OneDrive\\Documentos\\GitHub\\car-color-recognition\\dataset\\1\\test\\green\n",
      "Dirs: []\n",
      "Files: ['0174bfb8dd.jpg', '044c3fb74a.jpg', '05a6a4302a.jpg', '077494412e.jpg', '07f848564a.jpg']\n",
      "Root: C:\\Users\\guilh\\OneDrive\\Documentos\\GitHub\\car-color-recognition\\dataset\\1\\test\\grey\n",
      "Dirs: []\n",
      "Files: ['048cc7b090.jpg', '06be2eb1c6.jpg', '08f533775d.jpg', '09c8c1cc7b.jpg', '126fc0e2f4.jpg']\n",
      "Root: C:\\Users\\guilh\\OneDrive\\Documentos\\GitHub\\car-color-recognition\\dataset\\1\\test\\orange\n",
      "Dirs: []\n",
      "Files: ['0108fc863a.jpg', '0220efcd31.jpg', '0576de504b.jpg', '0597acb5ab.jpg', '070f5f5d8e.jpg']\n",
      "Root: C:\\Users\\guilh\\OneDrive\\Documentos\\GitHub\\car-color-recognition\\dataset\\1\\test\\pink\n",
      "Dirs: []\n",
      "Files: ['00caa0c07c.jpg', '04f963238b.jpg', '08dda6a584.jpg', '0b647c6ca3.jpg', '0caa3ce252.jpg']\n",
      "Root: C:\\Users\\guilh\\OneDrive\\Documentos\\GitHub\\car-color-recognition\\dataset\\1\\test\\purple\n",
      "Dirs: []\n",
      "Files: ['0088b18c27.jpg', '02e85a12ba.jpg', '047bf072e9.jpg', '0b01001367.jpg', '0eb33b58d1.jpg']\n",
      "Root: C:\\Users\\guilh\\OneDrive\\Documentos\\GitHub\\car-color-recognition\\dataset\\1\\test\\red\n",
      "Dirs: []\n",
      "Files: ['044ed301f3.jpg', '0b9d8063c5.jpg', '0ba3143a2c.jpg', '0c098b9636.jpg', '0c8ac10318.jpg']\n",
      "Root: C:\\Users\\guilh\\OneDrive\\Documentos\\GitHub\\car-color-recognition\\dataset\\1\\test\\silver\n",
      "Dirs: []\n",
      "Files: ['013c46496b.jpg', '03a84842bf.jpg', '03c7121768.jpg', '0978881df0.jpg', '0d90eeb5ef.jpg']\n",
      "Root: C:\\Users\\guilh\\OneDrive\\Documentos\\GitHub\\car-color-recognition\\dataset\\1\\test\\tan\n",
      "Dirs: []\n",
      "Files: ['029fcc83af.jpg', '096d430280.jpg', '0a6e186cc0.jpg', '0eea5e55d7.jpg', '1a12cc36a9.jpg']\n",
      "Root: C:\\Users\\guilh\\OneDrive\\Documentos\\GitHub\\car-color-recognition\\dataset\\1\\test\\white\n",
      "Dirs: []\n",
      "Files: ['05beec100f.jpg', '07dbd6b444.jpg', '08c6f0b675.jpg', '092d598c42.jpg', '0af23aa4e0.jpg']\n",
      "Root: C:\\Users\\guilh\\OneDrive\\Documentos\\GitHub\\car-color-recognition\\dataset\\1\\test\\yellow\n",
      "Dirs: []\n",
      "Files: ['032a34cc19.jpg', '03f12c3964.jpg', '07c885555d.jpg', '0ab959c5f9.jpg', '0c2de6cd26.jpg']\n",
      "Root: C:\\Users\\guilh\\OneDrive\\Documentos\\GitHub\\car-color-recognition\\dataset\\1\\train\n",
      "Dirs: ['beige', 'black', 'blue', 'brown', 'gold', 'green', 'grey', 'orange', 'pink', 'purple', 'red', 'silver', 'tan', 'white', 'yellow']\n",
      "Files: []\n",
      "Root: C:\\Users\\guilh\\OneDrive\\Documentos\\GitHub\\car-color-recognition\\dataset\\1\\train\\beige\n",
      "Dirs: []\n",
      "Files: ['00ecfeedea.jpg', '012d5b3f87.jpg', '02373872da.jpg', '02c2e8bbc2.jpg', '047c3235ad.jpg']\n",
      "Root: C:\\Users\\guilh\\OneDrive\\Documentos\\GitHub\\car-color-recognition\\dataset\\1\\train\\black\n",
      "Dirs: []\n",
      "Files: ['00a3225ef6.jpg', '0105a1c836.jpg', '0124e36094.jpg', '02db69e20c.jpg', '03e58e36d0.jpg']\n",
      "Root: C:\\Users\\guilh\\OneDrive\\Documentos\\GitHub\\car-color-recognition\\dataset\\1\\train\\blue\n",
      "Dirs: []\n",
      "Files: ['0009a2f7b0.jpg', '0034dec06b.jpg', '00becb1397.jpg', '00e4a51c20.jpg', '013d9e041c.jpg']\n",
      "Root: C:\\Users\\guilh\\OneDrive\\Documentos\\GitHub\\car-color-recognition\\dataset\\1\\train\\brown\n",
      "Dirs: []\n",
      "Files: ['0025582388.jpg', '00677113a3.jpg', '00ca812f1d.jpg', '01274d8372.jpg', '014640503c.jpg']\n",
      "Root: C:\\Users\\guilh\\OneDrive\\Documentos\\GitHub\\car-color-recognition\\dataset\\1\\train\\gold\n",
      "Dirs: []\n",
      "Files: ['002e0a3642.jpg', '046a27a43b.jpg', '069c1e77fe.jpg', '0a3e4fe2ac.jpg', '0babfece7d.jpg']\n",
      "Root: C:\\Users\\guilh\\OneDrive\\Documentos\\GitHub\\car-color-recognition\\dataset\\1\\train\\green\n",
      "Dirs: []\n",
      "Files: ['004fbfb1b1.jpg', '008fdae035.jpg', '00a36a1d6d.jpg', '00cb5cd89e.jpg', '013cd53d1c.jpg']\n",
      "Root: C:\\Users\\guilh\\OneDrive\\Documentos\\GitHub\\car-color-recognition\\dataset\\1\\train\\grey\n",
      "Dirs: []\n",
      "Files: ['02a373dbc2.jpg', '03eb6bd756.jpg', '04503958d2.jpg', '05e1b5b941.jpg', '0715b46c6f.jpg']\n",
      "Root: C:\\Users\\guilh\\OneDrive\\Documentos\\GitHub\\car-color-recognition\\dataset\\1\\train\\orange\n",
      "Dirs: []\n",
      "Files: ['0034c7c751.jpg', '0037f57e4a.jpg', '003c4e5ecc.jpg', '00bcdf8c52.jpg', '01c934fb54.jpg']\n",
      "Root: C:\\Users\\guilh\\OneDrive\\Documentos\\GitHub\\car-color-recognition\\dataset\\1\\train\\pink\n",
      "Dirs: []\n",
      "Files: ['0002452fba.jpg', '01455ca702.jpg', '015c2c56c9.jpg', '01cfd31950.jpg', '0209d06601.jpg']\n",
      "Root: C:\\Users\\guilh\\OneDrive\\Documentos\\GitHub\\car-color-recognition\\dataset\\1\\train\\purple\n",
      "Dirs: []\n",
      "Files: ['001b1187e7.jpg', '001b5f3197.jpg', '007f2db65b.jpg', '00ff3dddf3.jpg', '017f25d856.jpg']\n",
      "Root: C:\\Users\\guilh\\OneDrive\\Documentos\\GitHub\\car-color-recognition\\dataset\\1\\train\\red\n",
      "Dirs: []\n",
      "Files: ['0033ba4892.jpg', '0044793e70.jpg', '00a8845754.jpg', '01425458ae.jpg', '01aca21aab.jpg']\n",
      "Root: C:\\Users\\guilh\\OneDrive\\Documentos\\GitHub\\car-color-recognition\\dataset\\1\\train\\silver\n",
      "Dirs: []\n",
      "Files: ['0040874d85.jpg', '00778e8ec8.jpg', '00d77b66a2.jpg', '01c57b72e9.jpg', '01f35d0aba.jpg']\n",
      "Root: C:\\Users\\guilh\\OneDrive\\Documentos\\GitHub\\car-color-recognition\\dataset\\1\\train\\tan\n",
      "Dirs: []\n",
      "Files: ['00073f9e04.jpg', '00acfc482e.jpg', '00b347d81d.jpg', '01cbf96e47.jpg', '042dba6697.jpg']\n",
      "Root: C:\\Users\\guilh\\OneDrive\\Documentos\\GitHub\\car-color-recognition\\dataset\\1\\train\\white\n",
      "Dirs: []\n",
      "Files: ['00c2507a7d.jpg', '010126f1d4.jpg', '033ea602eb.jpg', '0403cc673a.jpg', '041c4f1bf2.jpg']\n",
      "Root: C:\\Users\\guilh\\OneDrive\\Documentos\\GitHub\\car-color-recognition\\dataset\\1\\train\\yellow\n",
      "Dirs: []\n",
      "Files: ['0154ea0fa4.jpg', '024298ba68.jpg', '0251ac35f3.jpg', '0278c88559.jpg', '02bf1fa8dd.jpg']\n",
      "Root: C:\\Users\\guilh\\OneDrive\\Documentos\\GitHub\\car-color-recognition\\dataset\\1\\val\n",
      "Dirs: ['beige', 'black', 'blue', 'brown', 'gold', 'green', 'grey', 'orange', 'pink', 'purple', 'red', 'silver', 'tan', 'white', 'yellow']\n",
      "Files: []\n",
      "Root: C:\\Users\\guilh\\OneDrive\\Documentos\\GitHub\\car-color-recognition\\dataset\\1\\val\\beige\n",
      "Dirs: []\n",
      "Files: ['0a8ca5ca17.jpg', '0a8da39864.jpg', '1042c82e13.jpg', '10cfeffb48.jpg', '10f73c38e8.jpg']\n",
      "Root: C:\\Users\\guilh\\OneDrive\\Documentos\\GitHub\\car-color-recognition\\dataset\\1\\val\\black\n",
      "Dirs: []\n",
      "Files: ['007ab0bb16.jpg', '0098fde193.jpg', '01f557e075.jpg', '02df781fe3.jpg', '0726587fbb.jpg']\n",
      "Root: C:\\Users\\guilh\\OneDrive\\Documentos\\GitHub\\car-color-recognition\\dataset\\1\\val\\blue\n",
      "Dirs: []\n",
      "Files: ['014bd58353.jpg', '04b44cda99.jpg', '04d752660a.jpg', '05017f52d3.jpg', '05d19c4bb1.jpg']\n",
      "Root: C:\\Users\\guilh\\OneDrive\\Documentos\\GitHub\\car-color-recognition\\dataset\\1\\val\\brown\n",
      "Dirs: []\n",
      "Files: ['03a548c18c.jpg', '091a72701e.jpg', '0a6653401d.jpg', '0be4f72e5e.jpg', '0f8070be98.jpg']\n",
      "Root: C:\\Users\\guilh\\OneDrive\\Documentos\\GitHub\\car-color-recognition\\dataset\\1\\val\\gold\n",
      "Dirs: []\n",
      "Files: ['006e9733de.jpg', '01d276d0cc.jpg', '05484bb7a2.jpg', '0887f13c55.jpg', '0fc8d3084e.jpg']\n",
      "Root: C:\\Users\\guilh\\OneDrive\\Documentos\\GitHub\\car-color-recognition\\dataset\\1\\val\\green\n",
      "Dirs: []\n",
      "Files: ['018d8448c5.jpg', '026f459e46.jpg', '0463447ebd.jpg', '05471f4bb9.jpg', '06cfb18d30 - Copy.jpg']\n",
      "Root: C:\\Users\\guilh\\OneDrive\\Documentos\\GitHub\\car-color-recognition\\dataset\\1\\val\\grey\n",
      "Dirs: []\n",
      "Files: ['009c4b91e0.jpg', '02fcfbe483.jpg', '074cb696b2.jpg', '0b42d66b00.jpg', '13d0bd2ff6.jpg']\n",
      "Root: C:\\Users\\guilh\\OneDrive\\Documentos\\GitHub\\car-color-recognition\\dataset\\1\\val\\orange\n",
      "Dirs: []\n",
      "Files: ['0258c705f8.jpg', '028bb7c0f9.jpg', '05aed0b759.jpg', '06ca722e76.jpg', '06d9e37e10.jpg']\n",
      "Root: C:\\Users\\guilh\\OneDrive\\Documentos\\GitHub\\car-color-recognition\\dataset\\1\\val\\pink\n",
      "Dirs: []\n",
      "Files: ['00745999d3.jpg', '00fa52892f.jpg', '0108ab17ec.jpg', '02c3e46bdd.jpg', '0776265b35.jpg']\n",
      "Root: C:\\Users\\guilh\\OneDrive\\Documentos\\GitHub\\car-color-recognition\\dataset\\1\\val\\purple\n",
      "Dirs: []\n",
      "Files: ['052d6a9b0d.jpg', '05e26b2276.jpg', '06f35745cc.jpg', '0908604bb1.jpg', '0945a1361f.jpg']\n",
      "Root: C:\\Users\\guilh\\OneDrive\\Documentos\\GitHub\\car-color-recognition\\dataset\\1\\val\\red\n",
      "Dirs: []\n",
      "Files: ['0065e94d20.jpg', '04d3b878ff.jpg', '05b3f057ec.jpg', '0795f99cbb.jpg', '08f01d15a4.jpg']\n",
      "Root: C:\\Users\\guilh\\OneDrive\\Documentos\\GitHub\\car-color-recognition\\dataset\\1\\val\\silver\n",
      "Dirs: []\n",
      "Files: ['089379fdd0.jpg', '0aca9bb6fb.jpg', '0baa5a7add.jpg', '106f9b5ac4.jpg', '14891ad578.jpg']\n",
      "Root: C:\\Users\\guilh\\OneDrive\\Documentos\\GitHub\\car-color-recognition\\dataset\\1\\val\\tan\n",
      "Dirs: []\n",
      "Files: ['006f610c5d.jpg', '08ed374377.jpg', '08f52c7e3a.jpg', '096bdef439.jpg', '0b45ced007.jpg']\n",
      "Root: C:\\Users\\guilh\\OneDrive\\Documentos\\GitHub\\car-color-recognition\\dataset\\1\\val\\white\n",
      "Dirs: []\n",
      "Files: ['0325913c50.jpg', '035c1b4da5.jpg', '04d5efb551.jpg', '0833634fef.jpg', '086c1d2ece.jpg']\n",
      "Root: C:\\Users\\guilh\\OneDrive\\Documentos\\GitHub\\car-color-recognition\\dataset\\1\\val\\yellow\n",
      "Dirs: []\n",
      "Files: ['0431bbdd87.jpg', '074dd0ab0e.jpg', '0bd9025d5e.jpg', '108d171cef.jpg', '13c4fc0a1b.jpg']\n"
     ]
    }
   ],
   "source": [
    "import os\n",
    "\n",
    "# Verificar a estrutura do dataset\n",
    "dataset_path = r\"C:\\Users\\guilh\\OneDrive\\Documentos\\GitHub\\car-color-recognition\\dataset\\1\"\n",
    "for root, dirs, files in os.walk(dataset_path):\n",
    "   print(f\"Root: {root}\")\n",
    "   print(f\"Dirs: {dirs}\")\n",
    "   print(f\"Files: {files[:5]}\")  # Mostrar apenas os 5 primeiros arquivos"
   ]
  },
  {
   "cell_type": "code",
   "execution_count": 18,
   "metadata": {
    "colab": {
     "base_uri": "https://localhost:8080/"
    },
    "id": "fsPMhW5YZD9b",
    "outputId": "d6a25491-8734-401e-f2a4-e245165dc3fb"
   },
   "outputs": [
    {
     "name": "stdout",
     "output_type": "stream",
     "text": [
      "[('C:\\\\Users\\\\guilh\\\\OneDrive\\\\Documentos\\\\GitHub\\\\car-color-recognition\\\\dataset\\\\1\\\\train\\\\beige\\\\00ecfeedea.jpg', 'beige'), ('C:\\\\Users\\\\guilh\\\\OneDrive\\\\Documentos\\\\GitHub\\\\car-color-recognition\\\\dataset\\\\1\\\\train\\\\beige\\\\012d5b3f87.jpg', 'beige')]\n"
     ]
    }
   ],
   "source": [
    "import os\n",
    "\n",
    "def load_dataset(base_path):\n",
    "    data = []\n",
    "    for label in os.listdir(base_path):\n",
    "        label_path = os.path.join(base_path, label)\n",
    "        if os.path.isdir(label_path):\n",
    "            for file in os.listdir(label_path):\n",
    "                if file.endswith('jpg'):\n",
    "                    file_path = os.path.join(label_path, file)\n",
    "                    data.append((file_path, label))\n",
    "    return data\n",
    "\n",
    "#base path appra o conjunto de treino\n",
    "train_base_path = r\"C:\\Users\\guilh\\OneDrive\\Documentos\\GitHub\\car-color-recognition\\dataset\\1\\train\"\n",
    "train_data = load_dataset(train_base_path)\n",
    "\n",
    "print(train_data[:2])"
   ]
  },
  {
   "cell_type": "code",
   "execution_count": 29,
   "metadata": {
    "colab": {
     "base_uri": "https://localhost:8080/"
    },
    "id": "boeotrx5lZYj",
    "outputId": "5c40e58d-55ed-4b05-bc8d-f8e648c9c1d1"
   },
   "outputs": [
    {
     "name": "stdout",
     "output_type": "stream",
     "text": [
      "Conversão para YOLOv8 concluída. Dados salvos em: yolo_dataset\n"
     ]
    }
   ],
   "source": [
    "import os\n",
    "import shutil\n",
    "from PIL import Image\n",
    "\n",
    "# Diretório raiz do dataset\n",
    "dataset_dir = r\"C:\\Users\\guilh\\OneDrive\\Documentos\\GitHub\\car-color-recognition\\dataset\\1\"\n",
    "\n",
    "# Classes permitidas\n",
    "allowed_classes = ['white', 'black', 'red', 'yellow', 'silver', 'blue', 'green']\n",
    "class_to_id = {cls: idx for idx, cls in enumerate(allowed_classes)}\n",
    "\n",
    "# Diretórios de destino\n",
    "output_dir = \"yolo_dataset\"\n",
    "image_dir = os.path.join(output_dir, \"images\")\n",
    "label_dir = os.path.join(output_dir, \"labels\")\n",
    "\n",
    "train_img_dir = os.path.join(image_dir, \"train\")\n",
    "val_img_dir = os.path.join(image_dir, \"val\")\n",
    "test_img_dir = os.path.join(image_dir, \"test\")\n",
    "train_label_dir = os.path.join(label_dir, \"train\")\n",
    "val_label_dir = os.path.join(label_dir, \"val\")\n",
    "test_label_dir = os.path.join(label_dir, \"test\")\n",
    "\n",
    "# Criar pastas\n",
    "os.makedirs(train_img_dir, exist_ok=True)\n",
    "os.makedirs(val_img_dir, exist_ok=True)\n",
    "os.makedirs(test_img_dir, exist_ok=True)\n",
    "os.makedirs(train_label_dir, exist_ok=True)\n",
    "os.makedirs(val_label_dir, exist_ok=True)\n",
    "os.makedirs(test_label_dir, exist_ok=True)\n",
    "\n",
    "# Função para transformar anotações em formato YOLO\n",
    "def create_yolo_label(image_path, label, label_dir):\n",
    "    with Image.open(image_path) as img:\n",
    "        width, height = img.size\n",
    "\n",
    "    # Coordenadas normalizadas\n",
    "    class_id = class_to_id[label]\n",
    "    center_x, center_y = 0.5, 0.5\n",
    "    obj_width, obj_height = 1.0, 1.0\n",
    "\n",
    "    # Criar arquivo de anotação\n",
    "    image_name = os.path.splitext(os.path.basename(image_path))[0]\n",
    "    label_path = os.path.join(label_dir, f\"{image_name}.txt\")\n",
    "    with open(label_path, \"w\") as f:\n",
    "        f.write(f\"{class_id} {center_x} {center_y} {obj_width} {obj_height}\\n\")\n",
    "\n",
    "# Inicializar dados e processar\n",
    "for split in ['train', 'val', 'test']:\n",
    "    split_dir = os.path.join(dataset_dir, split)\n",
    "    for label in os.listdir(split_dir):\n",
    "        if label not in allowed_classes:\n",
    "            continue  # Ignorar classes não permitidas\n",
    "\n",
    "        label_dir = os.path.join(split_dir, label)\n",
    "        for image_name in os.listdir(label_dir):\n",
    "            image_path = os.path.join(label_dir, image_name)\n",
    "\n",
    "            if \"train\" in image_path:\n",
    "                dest_img_dir = train_img_dir\n",
    "                dest_label_dir = train_label_dir\n",
    "            elif \"val\" in image_path:\n",
    "                dest_img_dir = val_img_dir\n",
    "                dest_label_dir = val_label_dir\n",
    "            elif \"test\" in image_path:\n",
    "                dest_img_dir = test_img_dir\n",
    "                dest_label_dir = test_label_dir\n",
    "            else:\n",
    "                continue  # Ignorar arquivos inválidos\n",
    "\n",
    "            # Copiar imagem e criar anotação\n",
    "            dest_path = os.path.join(dest_img_dir, os.path.basename(image_path))\n",
    "            shutil.copy(image_path, dest_path)\n",
    "            create_yolo_label(image_path, label, dest_label_dir)\n",
    "\n",
    "# Criar o arquivo data.yaml\n",
    "data_yaml_path = os.path.join(output_dir, \"data.yaml\")\n",
    "with open(data_yaml_path, \"w\") as f:\n",
    "    f.write(f\"train: {os.path.abspath(train_img_dir)}\\n\")\n",
    "    f.write(f\"val: {os.path.abspath(val_img_dir)}\\n\")\n",
    "    f.write(f\"test: {os.path.abspath(test_img_dir)}\\n\")\n",
    "    f.write(\"nc: {}\\n\".format(len(allowed_classes)))\n",
    "    f.write(f\"names: {allowed_classes}\\n\")\n",
    "\n",
    "print(f\"Conversão para YOLOv8 concluída. Dados salvos em: {output_dir}\")"
   ]
  },
  {
   "cell_type": "markdown",
   "metadata": {
    "id": "0NZ3qJ7fbJZv"
   },
   "source": [
    "## Tentando utilizar o dataset convertido para o Yolo\n"
   ]
  },
  {
   "cell_type": "markdown",
   "metadata": {
    "id": "e1bwhw7Vo-2W",
    "jp-MarkdownHeadingCollapsed": true
   },
   "source": [
    "### 5 epocas\n"
   ]
  },
  {
   "cell_type": "code",
   "execution_count": null,
   "metadata": {
    "colab": {
     "base_uri": "https://localhost:8080/",
     "height": 1000
    },
    "collapsed": true,
    "id": "6bfRJYTpRByx",
    "jupyter": {
     "outputs_hidden": true
    },
    "outputId": "fb6b6f94-8121-49e8-ce4e-bf9dccdefaf7"
   },
   "outputs": [
    {
     "name": "stdout",
     "output_type": "stream",
     "text": [
      "Ultralytics 8.3.61 🚀 Python-3.10.12 torch-2.5.1+cu121 CPU (Intel Xeon 2.20GHz)\n",
      "\u001b[34m\u001b[1mengine/trainer: \u001b[0mtask=detect, mode=train, model=yolov8n.pt, data=yolo_dataset/data.yaml, epochs=5, time=None, patience=100, batch=32, imgsz=320, save=True, save_period=-1, cache=False, device=None, workers=8, project=None, name=vehicle_color_yolo2, exist_ok=False, pretrained=True, optimizer=auto, verbose=True, seed=0, deterministic=True, single_cls=False, rect=False, cos_lr=False, close_mosaic=10, resume=False, amp=True, fraction=1.0, profile=False, freeze=None, multi_scale=False, overlap_mask=True, mask_ratio=4, dropout=0.0, val=True, split=val, save_json=False, save_hybrid=False, conf=None, iou=0.7, max_det=300, half=False, dnn=False, plots=True, source=None, vid_stride=1, stream_buffer=False, visualize=False, augment=False, agnostic_nms=False, classes=None, retina_masks=False, embed=None, show=False, save_frames=False, save_txt=False, save_conf=False, save_crop=False, show_labels=True, show_conf=True, show_boxes=True, line_width=None, format=torchscript, keras=False, optimize=False, int8=False, dynamic=False, simplify=True, opset=None, workspace=None, nms=False, lr0=0.01, lrf=0.01, momentum=0.937, weight_decay=0.0005, warmup_epochs=3.0, warmup_momentum=0.8, warmup_bias_lr=0.1, box=7.5, cls=0.5, dfl=1.5, pose=12.0, kobj=1.0, nbs=64, hsv_h=0.015, hsv_s=0.7, hsv_v=0.4, degrees=0.0, translate=0.1, scale=0.5, shear=0.0, perspective=0.0, flipud=0.0, fliplr=0.5, bgr=0.0, mosaic=1.0, mixup=0.0, copy_paste=0.0, copy_paste_mode=flip, auto_augment=randaugment, erasing=0.4, crop_fraction=1.0, cfg=None, tracker=botsort.yaml, save_dir=runs/detect/vehicle_color_yolo2\n",
      "Overriding model.yaml nc=80 with nc=5\n",
      "\n",
      "                   from  n    params  module                                       arguments                     \n",
      "  0                  -1  1       464  ultralytics.nn.modules.conv.Conv             [3, 16, 3, 2]                 \n",
      "  1                  -1  1      4672  ultralytics.nn.modules.conv.Conv             [16, 32, 3, 2]                \n",
      "  2                  -1  1      7360  ultralytics.nn.modules.block.C2f             [32, 32, 1, True]             \n",
      "  3                  -1  1     18560  ultralytics.nn.modules.conv.Conv             [32, 64, 3, 2]                \n",
      "  4                  -1  2     49664  ultralytics.nn.modules.block.C2f             [64, 64, 2, True]             \n",
      "  5                  -1  1     73984  ultralytics.nn.modules.conv.Conv             [64, 128, 3, 2]               \n",
      "  6                  -1  2    197632  ultralytics.nn.modules.block.C2f             [128, 128, 2, True]           \n",
      "  7                  -1  1    295424  ultralytics.nn.modules.conv.Conv             [128, 256, 3, 2]              \n",
      "  8                  -1  1    460288  ultralytics.nn.modules.block.C2f             [256, 256, 1, True]           \n",
      "  9                  -1  1    164608  ultralytics.nn.modules.block.SPPF            [256, 256, 5]                 \n",
      " 10                  -1  1         0  torch.nn.modules.upsampling.Upsample         [None, 2, 'nearest']          \n",
      " 11             [-1, 6]  1         0  ultralytics.nn.modules.conv.Concat           [1]                           \n",
      " 12                  -1  1    148224  ultralytics.nn.modules.block.C2f             [384, 128, 1]                 \n",
      " 13                  -1  1         0  torch.nn.modules.upsampling.Upsample         [None, 2, 'nearest']          \n",
      " 14             [-1, 4]  1         0  ultralytics.nn.modules.conv.Concat           [1]                           \n",
      " 15                  -1  1     37248  ultralytics.nn.modules.block.C2f             [192, 64, 1]                  \n",
      " 16                  -1  1     36992  ultralytics.nn.modules.conv.Conv             [64, 64, 3, 2]                \n",
      " 17            [-1, 12]  1         0  ultralytics.nn.modules.conv.Concat           [1]                           \n",
      " 18                  -1  1    123648  ultralytics.nn.modules.block.C2f             [192, 128, 1]                 \n",
      " 19                  -1  1    147712  ultralytics.nn.modules.conv.Conv             [128, 128, 3, 2]              \n",
      " 20             [-1, 9]  1         0  ultralytics.nn.modules.conv.Concat           [1]                           \n",
      " 21                  -1  1    493056  ultralytics.nn.modules.block.C2f             [384, 256, 1]                 \n",
      " 22        [15, 18, 21]  1    752287  ultralytics.nn.modules.head.Detect           [5, [64, 128, 256]]           \n",
      "Model summary: 225 layers, 3,011,823 parameters, 3,011,807 gradients, 8.2 GFLOPs\n",
      "\n",
      "Transferred 319/355 items from pretrained weights\n",
      "\u001b[34m\u001b[1mTensorBoard: \u001b[0mStart with 'tensorboard --logdir runs/detect/vehicle_color_yolo2', view at http://localhost:6006/\n",
      "Freezing layer 'model.22.dfl.conv.weight'\n"
     ]
    },
    {
     "name": "stderr",
     "output_type": "stream",
     "text": [
      "\u001b[34m\u001b[1mtrain: \u001b[0mScanning /content/yolo_dataset/labels/train.cache... 2017 images, 0 backgrounds, 0 corrupt: 100%|██████████| 2017/2017 [00:00<?, ?it/s]"
     ]
    },
    {
     "name": "stdout",
     "output_type": "stream",
     "text": [
      "\u001b[34m\u001b[1malbumentations: \u001b[0mBlur(p=0.01, blur_limit=(3, 7)), MedianBlur(p=0.01, blur_limit=(3, 7)), ToGray(p=0.01, num_output_channels=3, method='weighted_average'), CLAHE(p=0.01, clip_limit=(1.0, 4.0), tile_grid_size=(8, 8))\n"
     ]
    },
    {
     "name": "stderr",
     "output_type": "stream",
     "text": [
      "\n",
      "\u001b[34m\u001b[1mval: \u001b[0mScanning /content/yolo_dataset/labels/val.cache... 430 images, 0 backgrounds, 0 corrupt: 100%|██████████| 430/430 [00:00<?, ?it/s]"
     ]
    },
    {
     "name": "stdout",
     "output_type": "stream",
     "text": [
      "Plotting labels to runs/detect/vehicle_color_yolo2/labels.jpg... \n"
     ]
    },
    {
     "name": "stderr",
     "output_type": "stream",
     "text": [
      "\n"
     ]
    },
    {
     "name": "stdout",
     "output_type": "stream",
     "text": [
      "\u001b[34m\u001b[1moptimizer:\u001b[0m 'optimizer=auto' found, ignoring 'lr0=0.01' and 'momentum=0.937' and determining best 'optimizer', 'lr0' and 'momentum' automatically... \n",
      "\u001b[34m\u001b[1moptimizer:\u001b[0m AdamW(lr=0.001111, momentum=0.9) with parameter groups 57 weight(decay=0.0), 64 weight(decay=0.0005), 63 bias(decay=0.0)\n",
      "\u001b[34m\u001b[1mTensorBoard: \u001b[0mmodel graph visualization added ✅\n",
      "Image sizes 320 train, 320 val\n",
      "Using 0 dataloader workers\n",
      "Logging results to \u001b[1mruns/detect/vehicle_color_yolo2\u001b[0m\n",
      "Starting training for 5 epochs...\n",
      "\n",
      "      Epoch    GPU_mem   box_loss   cls_loss   dfl_loss  Instances       Size\n"
     ]
    },
    {
     "name": "stderr",
     "output_type": "stream",
     "text": [
      "        1/5         0G     0.3362      2.373     0.9577          4        320: 100%|██████████| 64/64 [06:39<00:00,  6.25s/it]\n",
      "                 Class     Images  Instances      Box(P          R      mAP50  mAP50-95): 100%|██████████| 7/7 [00:19<00:00,  2.80s/it]"
     ]
    },
    {
     "name": "stdout",
     "output_type": "stream",
     "text": [
      "                   all        430        430      0.362      0.819      0.539      0.537\n"
     ]
    },
    {
     "name": "stderr",
     "output_type": "stream",
     "text": [
      "\n"
     ]
    },
    {
     "name": "stdout",
     "output_type": "stream",
     "text": [
      "\n",
      "      Epoch    GPU_mem   box_loss   cls_loss   dfl_loss  Instances       Size\n"
     ]
    },
    {
     "name": "stderr",
     "output_type": "stream",
     "text": [
      "        2/5         0G     0.2161      1.268     0.8976          4        320: 100%|██████████| 64/64 [06:35<00:00,  6.18s/it]\n",
      "                 Class     Images  Instances      Box(P          R      mAP50  mAP50-95): 100%|██████████| 7/7 [00:19<00:00,  2.80s/it]"
     ]
    },
    {
     "name": "stdout",
     "output_type": "stream",
     "text": [
      "                   all        430        430      0.695      0.714      0.764      0.753\n"
     ]
    },
    {
     "name": "stderr",
     "output_type": "stream",
     "text": [
      "\n"
     ]
    },
    {
     "name": "stdout",
     "output_type": "stream",
     "text": [
      "\n",
      "      Epoch    GPU_mem   box_loss   cls_loss   dfl_loss  Instances       Size\n"
     ]
    },
    {
     "name": "stderr",
     "output_type": "stream",
     "text": [
      "        3/5         0G     0.1858      1.058     0.8846          4        320: 100%|██████████| 64/64 [06:30<00:00,  6.10s/it]\n",
      "                 Class     Images  Instances      Box(P          R      mAP50  mAP50-95): 100%|██████████| 7/7 [00:20<00:00,  3.00s/it]"
     ]
    },
    {
     "name": "stdout",
     "output_type": "stream",
     "text": [
      "                   all        430        430      0.699      0.783      0.779      0.779\n"
     ]
    },
    {
     "name": "stderr",
     "output_type": "stream",
     "text": [
      "\n"
     ]
    },
    {
     "name": "stdout",
     "output_type": "stream",
     "text": [
      "\n",
      "      Epoch    GPU_mem   box_loss   cls_loss   dfl_loss  Instances       Size\n"
     ]
    },
    {
     "name": "stderr",
     "output_type": "stream",
     "text": [
      "        4/5         0G     0.1678     0.9561     0.8756          2        320: 100%|██████████| 64/64 [06:30<00:00,  6.11s/it]\n",
      "                 Class     Images  Instances      Box(P          R      mAP50  mAP50-95): 100%|██████████| 7/7 [00:20<00:00,  2.99s/it]"
     ]
    },
    {
     "name": "stdout",
     "output_type": "stream",
     "text": [
      "                   all        430        430      0.802      0.878      0.893       0.89\n"
     ]
    },
    {
     "name": "stderr",
     "output_type": "stream",
     "text": [
      "\n"
     ]
    },
    {
     "name": "stdout",
     "output_type": "stream",
     "text": [
      "\n",
      "      Epoch    GPU_mem   box_loss   cls_loss   dfl_loss  Instances       Size\n"
     ]
    },
    {
     "name": "stderr",
     "output_type": "stream",
     "text": [
      "        5/5         0G     0.1372     0.8597     0.8694          3        320: 100%|██████████| 64/64 [06:29<00:00,  6.08s/it]\n",
      "                 Class     Images  Instances      Box(P          R      mAP50  mAP50-95): 100%|██████████| 7/7 [00:19<00:00,  2.85s/it]"
     ]
    },
    {
     "name": "stdout",
     "output_type": "stream",
     "text": [
      "                   all        430        430      0.822      0.864      0.909      0.909\n"
     ]
    },
    {
     "name": "stderr",
     "output_type": "stream",
     "text": [
      "\n"
     ]
    },
    {
     "name": "stdout",
     "output_type": "stream",
     "text": [
      "\n",
      "5 epochs completed in 0.576 hours.\n",
      "Optimizer stripped from runs/detect/vehicle_color_yolo2/weights/last.pt, 6.2MB\n",
      "Optimizer stripped from runs/detect/vehicle_color_yolo2/weights/best.pt, 6.2MB\n",
      "\n",
      "Validating runs/detect/vehicle_color_yolo2/weights/best.pt...\n",
      "Ultralytics 8.3.61 🚀 Python-3.10.12 torch-2.5.1+cu121 CPU (Intel Xeon 2.20GHz)\n",
      "Model summary (fused): 168 layers, 3,006,623 parameters, 0 gradients, 8.1 GFLOPs\n"
     ]
    },
    {
     "name": "stderr",
     "output_type": "stream",
     "text": [
      "                 Class     Images  Instances      Box(P          R      mAP50  mAP50-95): 100%|██████████| 7/7 [00:19<00:00,  2.81s/it]\n"
     ]
    },
    {
     "name": "stdout",
     "output_type": "stream",
     "text": [
      "                   all        430        430      0.822      0.864      0.909      0.909\n",
      "                 white         86         86      0.843      0.939      0.963      0.962\n",
      "                 black         86         86      0.853      0.965      0.964      0.964\n",
      "                  grey         91         91      0.713      0.791      0.864      0.863\n",
      "                 beige         90         90      0.988      0.886       0.98       0.98\n",
      "                silver         77         77      0.712       0.74      0.774      0.774\n",
      "Speed: 0.4ms preprocess, 39.5ms inference, 0.0ms loss, 0.6ms postprocess per image\n",
      "Results saved to \u001b[1mruns/detect/vehicle_color_yolo2\u001b[0m\n",
      "Ultralytics 8.3.61 🚀 Python-3.10.12 torch-2.5.1+cu121 CPU (Intel Xeon 2.20GHz)\n",
      "Model summary (fused): 168 layers, 3,006,623 parameters, 0 gradients, 8.1 GFLOPs\n"
     ]
    },
    {
     "name": "stderr",
     "output_type": "stream",
     "text": [
      "\u001b[34m\u001b[1mval: \u001b[0mScanning /content/yolo_dataset/labels/val.cache... 430 images, 0 backgrounds, 0 corrupt: 100%|██████████| 430/430 [00:00<?, ?it/s]\n",
      "                 Class     Images  Instances      Box(P          R      mAP50  mAP50-95): 100%|██████████| 14/14 [00:19<00:00,  1.40s/it]\n"
     ]
    },
    {
     "name": "stdout",
     "output_type": "stream",
     "text": [
      "                   all        430        430      0.828      0.872      0.908      0.907\n",
      "                 white         86         86       0.84      0.953      0.964      0.963\n",
      "                 black         86         86      0.864      0.959      0.965      0.965\n",
      "                  grey         91         91      0.727       0.82      0.864      0.863\n",
      "                 beige         90         90      0.988      0.887       0.98       0.98\n",
      "                silver         77         77       0.72       0.74      0.767      0.766\n",
      "Speed: 0.4ms preprocess, 39.1ms inference, 0.0ms loss, 0.6ms postprocess per image\n",
      "Results saved to \u001b[1mruns/detect/vehicle_color_yolo22\u001b[0m\n",
      "\n"
     ]
    },
    {
     "ename": "FileNotFoundError",
     "evalue": "/root/.cache/kagglehub/datasets/landrykezebou/vcor-vehicle-color-recognition-dataset/versions/1/train/grey/15d01b732c.jpg does not exist",
     "output_type": "error",
     "traceback": [
      "\u001b[0;31m---------------------------------------------------------------------------\u001b[0m",
      "\u001b[0;31mFileNotFoundError\u001b[0m                         Traceback (most recent call last)",
      "\u001b[0;32m<ipython-input-9-c6731fa4eb1e>\u001b[0m in \u001b[0;36m<cell line: 28>\u001b[0;34m()\u001b[0m\n\u001b[1;32m     26\u001b[0m \u001b[0mtest_image_orange\u001b[0m \u001b[0;34m=\u001b[0m \u001b[0;34m\"/root/.cache/kagglehub/datasets/landrykezebou/vcor-vehicle-color-recognition-dataset/versions/1/train/grey/15d01b732c.jpg\"\u001b[0m\u001b[0;34m\u001b[0m\u001b[0;34m\u001b[0m\u001b[0m\n\u001b[1;32m     27\u001b[0m \u001b[0;34m\u001b[0m\u001b[0m\n\u001b[0;32m---> 28\u001b[0;31m \u001b[0mresults\u001b[0m \u001b[0;34m=\u001b[0m \u001b[0mmodel\u001b[0m\u001b[0;34m(\u001b[0m\u001b[0mtest_image_orange\u001b[0m\u001b[0;34m)\u001b[0m\u001b[0;34m\u001b[0m\u001b[0;34m\u001b[0m\u001b[0m\n\u001b[0m\u001b[1;32m     29\u001b[0m \u001b[0;34m\u001b[0m\u001b[0m\n\u001b[1;32m     30\u001b[0m \u001b[0;31m# Iterar sobre os resultados para exibi-los\u001b[0m\u001b[0;34m\u001b[0m\u001b[0;34m\u001b[0m\u001b[0m\n",
      "\u001b[0;32m/usr/local/lib/python3.10/dist-packages/ultralytics/engine/model.py\u001b[0m in \u001b[0;36m__call__\u001b[0;34m(self, source, stream, **kwargs)\u001b[0m\n\u001b[1;32m    178\u001b[0m             \u001b[0;34m...\u001b[0m     \u001b[0mprint\u001b[0m\u001b[0;34m(\u001b[0m\u001b[0;34mf\"Detected {len(r)} objects in image\"\u001b[0m\u001b[0;34m)\u001b[0m\u001b[0;34m\u001b[0m\u001b[0;34m\u001b[0m\u001b[0m\n\u001b[1;32m    179\u001b[0m         \"\"\"\n\u001b[0;32m--> 180\u001b[0;31m         \u001b[0;32mreturn\u001b[0m \u001b[0mself\u001b[0m\u001b[0;34m.\u001b[0m\u001b[0mpredict\u001b[0m\u001b[0;34m(\u001b[0m\u001b[0msource\u001b[0m\u001b[0;34m,\u001b[0m \u001b[0mstream\u001b[0m\u001b[0;34m,\u001b[0m \u001b[0;34m**\u001b[0m\u001b[0mkwargs\u001b[0m\u001b[0;34m)\u001b[0m\u001b[0;34m\u001b[0m\u001b[0;34m\u001b[0m\u001b[0m\n\u001b[0m\u001b[1;32m    181\u001b[0m \u001b[0;34m\u001b[0m\u001b[0m\n\u001b[1;32m    182\u001b[0m     \u001b[0;34m@\u001b[0m\u001b[0mstaticmethod\u001b[0m\u001b[0;34m\u001b[0m\u001b[0;34m\u001b[0m\u001b[0m\n",
      "\u001b[0;32m/usr/local/lib/python3.10/dist-packages/ultralytics/engine/model.py\u001b[0m in \u001b[0;36mpredict\u001b[0;34m(self, source, stream, predictor, **kwargs)\u001b[0m\n\u001b[1;32m    556\u001b[0m         \u001b[0;32mif\u001b[0m \u001b[0mprompts\u001b[0m \u001b[0;32mand\u001b[0m \u001b[0mhasattr\u001b[0m\u001b[0;34m(\u001b[0m\u001b[0mself\u001b[0m\u001b[0;34m.\u001b[0m\u001b[0mpredictor\u001b[0m\u001b[0;34m,\u001b[0m \u001b[0;34m\"set_prompts\"\u001b[0m\u001b[0;34m)\u001b[0m\u001b[0;34m:\u001b[0m  \u001b[0;31m# for SAM-type models\u001b[0m\u001b[0;34m\u001b[0m\u001b[0;34m\u001b[0m\u001b[0m\n\u001b[1;32m    557\u001b[0m             \u001b[0mself\u001b[0m\u001b[0;34m.\u001b[0m\u001b[0mpredictor\u001b[0m\u001b[0;34m.\u001b[0m\u001b[0mset_prompts\u001b[0m\u001b[0;34m(\u001b[0m\u001b[0mprompts\u001b[0m\u001b[0;34m)\u001b[0m\u001b[0;34m\u001b[0m\u001b[0;34m\u001b[0m\u001b[0m\n\u001b[0;32m--> 558\u001b[0;31m         \u001b[0;32mreturn\u001b[0m \u001b[0mself\u001b[0m\u001b[0;34m.\u001b[0m\u001b[0mpredictor\u001b[0m\u001b[0;34m.\u001b[0m\u001b[0mpredict_cli\u001b[0m\u001b[0;34m(\u001b[0m\u001b[0msource\u001b[0m\u001b[0;34m=\u001b[0m\u001b[0msource\u001b[0m\u001b[0;34m)\u001b[0m \u001b[0;32mif\u001b[0m \u001b[0mis_cli\u001b[0m \u001b[0;32melse\u001b[0m \u001b[0mself\u001b[0m\u001b[0;34m.\u001b[0m\u001b[0mpredictor\u001b[0m\u001b[0;34m(\u001b[0m\u001b[0msource\u001b[0m\u001b[0;34m=\u001b[0m\u001b[0msource\u001b[0m\u001b[0;34m,\u001b[0m \u001b[0mstream\u001b[0m\u001b[0;34m=\u001b[0m\u001b[0mstream\u001b[0m\u001b[0;34m)\u001b[0m\u001b[0;34m\u001b[0m\u001b[0;34m\u001b[0m\u001b[0m\n\u001b[0m\u001b[1;32m    559\u001b[0m \u001b[0;34m\u001b[0m\u001b[0m\n\u001b[1;32m    560\u001b[0m     def track(\n",
      "\u001b[0;32m/usr/local/lib/python3.10/dist-packages/ultralytics/engine/predictor.py\u001b[0m in \u001b[0;36m__call__\u001b[0;34m(self, source, model, stream, *args, **kwargs)\u001b[0m\n\u001b[1;32m    171\u001b[0m             \u001b[0;32mreturn\u001b[0m \u001b[0mself\u001b[0m\u001b[0;34m.\u001b[0m\u001b[0mstream_inference\u001b[0m\u001b[0;34m(\u001b[0m\u001b[0msource\u001b[0m\u001b[0;34m,\u001b[0m \u001b[0mmodel\u001b[0m\u001b[0;34m,\u001b[0m \u001b[0;34m*\u001b[0m\u001b[0margs\u001b[0m\u001b[0;34m,\u001b[0m \u001b[0;34m**\u001b[0m\u001b[0mkwargs\u001b[0m\u001b[0;34m)\u001b[0m\u001b[0;34m\u001b[0m\u001b[0;34m\u001b[0m\u001b[0m\n\u001b[1;32m    172\u001b[0m         \u001b[0;32melse\u001b[0m\u001b[0;34m:\u001b[0m\u001b[0;34m\u001b[0m\u001b[0;34m\u001b[0m\u001b[0m\n\u001b[0;32m--> 173\u001b[0;31m             \u001b[0;32mreturn\u001b[0m \u001b[0mlist\u001b[0m\u001b[0;34m(\u001b[0m\u001b[0mself\u001b[0m\u001b[0;34m.\u001b[0m\u001b[0mstream_inference\u001b[0m\u001b[0;34m(\u001b[0m\u001b[0msource\u001b[0m\u001b[0;34m,\u001b[0m \u001b[0mmodel\u001b[0m\u001b[0;34m,\u001b[0m \u001b[0;34m*\u001b[0m\u001b[0margs\u001b[0m\u001b[0;34m,\u001b[0m \u001b[0;34m**\u001b[0m\u001b[0mkwargs\u001b[0m\u001b[0;34m)\u001b[0m\u001b[0;34m)\u001b[0m  \u001b[0;31m# merge list of Result into one\u001b[0m\u001b[0;34m\u001b[0m\u001b[0;34m\u001b[0m\u001b[0m\n\u001b[0m\u001b[1;32m    174\u001b[0m \u001b[0;34m\u001b[0m\u001b[0m\n\u001b[1;32m    175\u001b[0m     \u001b[0;32mdef\u001b[0m \u001b[0mpredict_cli\u001b[0m\u001b[0;34m(\u001b[0m\u001b[0mself\u001b[0m\u001b[0;34m,\u001b[0m \u001b[0msource\u001b[0m\u001b[0;34m=\u001b[0m\u001b[0;32mNone\u001b[0m\u001b[0;34m,\u001b[0m \u001b[0mmodel\u001b[0m\u001b[0;34m=\u001b[0m\u001b[0;32mNone\u001b[0m\u001b[0;34m)\u001b[0m\u001b[0;34m:\u001b[0m\u001b[0;34m\u001b[0m\u001b[0;34m\u001b[0m\u001b[0m\n",
      "\u001b[0;32m/usr/local/lib/python3.10/dist-packages/torch/utils/_contextlib.py\u001b[0m in \u001b[0;36mgenerator_context\u001b[0;34m(*args, **kwargs)\u001b[0m\n\u001b[1;32m     34\u001b[0m             \u001b[0;31m# Issuing `None` to a generator fires it up\u001b[0m\u001b[0;34m\u001b[0m\u001b[0;34m\u001b[0m\u001b[0m\n\u001b[1;32m     35\u001b[0m             \u001b[0;32mwith\u001b[0m \u001b[0mctx_factory\u001b[0m\u001b[0;34m(\u001b[0m\u001b[0;34m)\u001b[0m\u001b[0;34m:\u001b[0m\u001b[0;34m\u001b[0m\u001b[0;34m\u001b[0m\u001b[0m\n\u001b[0;32m---> 36\u001b[0;31m                 \u001b[0mresponse\u001b[0m \u001b[0;34m=\u001b[0m \u001b[0mgen\u001b[0m\u001b[0;34m.\u001b[0m\u001b[0msend\u001b[0m\u001b[0;34m(\u001b[0m\u001b[0;32mNone\u001b[0m\u001b[0;34m)\u001b[0m\u001b[0;34m\u001b[0m\u001b[0;34m\u001b[0m\u001b[0m\n\u001b[0m\u001b[1;32m     37\u001b[0m \u001b[0;34m\u001b[0m\u001b[0m\n\u001b[1;32m     38\u001b[0m             \u001b[0;32mwhile\u001b[0m \u001b[0;32mTrue\u001b[0m\u001b[0;34m:\u001b[0m\u001b[0;34m\u001b[0m\u001b[0;34m\u001b[0m\u001b[0m\n",
      "\u001b[0;32m/usr/local/lib/python3.10/dist-packages/ultralytics/engine/predictor.py\u001b[0m in \u001b[0;36mstream_inference\u001b[0;34m(self, source, model, *args, **kwargs)\u001b[0m\n\u001b[1;32m    229\u001b[0m         \u001b[0;32mwith\u001b[0m \u001b[0mself\u001b[0m\u001b[0;34m.\u001b[0m\u001b[0m_lock\u001b[0m\u001b[0;34m:\u001b[0m  \u001b[0;31m# for thread-safe inference\u001b[0m\u001b[0;34m\u001b[0m\u001b[0;34m\u001b[0m\u001b[0m\n\u001b[1;32m    230\u001b[0m             \u001b[0;31m# Setup source every time predict is called\u001b[0m\u001b[0;34m\u001b[0m\u001b[0;34m\u001b[0m\u001b[0m\n\u001b[0;32m--> 231\u001b[0;31m             \u001b[0mself\u001b[0m\u001b[0;34m.\u001b[0m\u001b[0msetup_source\u001b[0m\u001b[0;34m(\u001b[0m\u001b[0msource\u001b[0m \u001b[0;32mif\u001b[0m \u001b[0msource\u001b[0m \u001b[0;32mis\u001b[0m \u001b[0;32mnot\u001b[0m \u001b[0;32mNone\u001b[0m \u001b[0;32melse\u001b[0m \u001b[0mself\u001b[0m\u001b[0;34m.\u001b[0m\u001b[0margs\u001b[0m\u001b[0;34m.\u001b[0m\u001b[0msource\u001b[0m\u001b[0;34m)\u001b[0m\u001b[0;34m\u001b[0m\u001b[0;34m\u001b[0m\u001b[0m\n\u001b[0m\u001b[1;32m    232\u001b[0m \u001b[0;34m\u001b[0m\u001b[0m\n\u001b[1;32m    233\u001b[0m             \u001b[0;31m# Check if save_dir/ label file exists\u001b[0m\u001b[0;34m\u001b[0m\u001b[0;34m\u001b[0m\u001b[0m\n",
      "\u001b[0;32m/usr/local/lib/python3.10/dist-packages/ultralytics/engine/predictor.py\u001b[0m in \u001b[0;36msetup_source\u001b[0;34m(self, source)\u001b[0m\n\u001b[1;32m    201\u001b[0m             \u001b[0;32melse\u001b[0m \u001b[0;32mNone\u001b[0m\u001b[0;34m\u001b[0m\u001b[0;34m\u001b[0m\u001b[0m\n\u001b[1;32m    202\u001b[0m         )\n\u001b[0;32m--> 203\u001b[0;31m         self.dataset = load_inference_source(\n\u001b[0m\u001b[1;32m    204\u001b[0m             \u001b[0msource\u001b[0m\u001b[0;34m=\u001b[0m\u001b[0msource\u001b[0m\u001b[0;34m,\u001b[0m\u001b[0;34m\u001b[0m\u001b[0;34m\u001b[0m\u001b[0m\n\u001b[1;32m    205\u001b[0m             \u001b[0mbatch\u001b[0m\u001b[0;34m=\u001b[0m\u001b[0mself\u001b[0m\u001b[0;34m.\u001b[0m\u001b[0margs\u001b[0m\u001b[0;34m.\u001b[0m\u001b[0mbatch\u001b[0m\u001b[0;34m,\u001b[0m\u001b[0;34m\u001b[0m\u001b[0;34m\u001b[0m\u001b[0m\n",
      "\u001b[0;32m/usr/local/lib/python3.10/dist-packages/ultralytics/data/build.py\u001b[0m in \u001b[0;36mload_inference_source\u001b[0;34m(source, batch, vid_stride, buffer)\u001b[0m\n\u001b[1;32m    200\u001b[0m         \u001b[0mdataset\u001b[0m \u001b[0;34m=\u001b[0m \u001b[0mLoadPilAndNumpy\u001b[0m\u001b[0;34m(\u001b[0m\u001b[0msource\u001b[0m\u001b[0;34m)\u001b[0m\u001b[0;34m\u001b[0m\u001b[0;34m\u001b[0m\u001b[0m\n\u001b[1;32m    201\u001b[0m     \u001b[0;32melse\u001b[0m\u001b[0;34m:\u001b[0m\u001b[0;34m\u001b[0m\u001b[0;34m\u001b[0m\u001b[0m\n\u001b[0;32m--> 202\u001b[0;31m         \u001b[0mdataset\u001b[0m \u001b[0;34m=\u001b[0m \u001b[0mLoadImagesAndVideos\u001b[0m\u001b[0;34m(\u001b[0m\u001b[0msource\u001b[0m\u001b[0;34m,\u001b[0m \u001b[0mbatch\u001b[0m\u001b[0;34m=\u001b[0m\u001b[0mbatch\u001b[0m\u001b[0;34m,\u001b[0m \u001b[0mvid_stride\u001b[0m\u001b[0;34m=\u001b[0m\u001b[0mvid_stride\u001b[0m\u001b[0;34m)\u001b[0m\u001b[0;34m\u001b[0m\u001b[0;34m\u001b[0m\u001b[0m\n\u001b[0m\u001b[1;32m    203\u001b[0m \u001b[0;34m\u001b[0m\u001b[0m\n\u001b[1;32m    204\u001b[0m     \u001b[0;31m# Attach source types to the dataset\u001b[0m\u001b[0;34m\u001b[0m\u001b[0;34m\u001b[0m\u001b[0m\n",
      "\u001b[0;32m/usr/local/lib/python3.10/dist-packages/ultralytics/data/loaders.py\u001b[0m in \u001b[0;36m__init__\u001b[0;34m(self, path, batch, vid_stride)\u001b[0m\n\u001b[1;32m    339\u001b[0m                 \u001b[0mfiles\u001b[0m\u001b[0;34m.\u001b[0m\u001b[0mappend\u001b[0m\u001b[0;34m(\u001b[0m\u001b[0mstr\u001b[0m\u001b[0;34m(\u001b[0m\u001b[0;34m(\u001b[0m\u001b[0mparent\u001b[0m \u001b[0;34m/\u001b[0m \u001b[0mp\u001b[0m\u001b[0;34m)\u001b[0m\u001b[0;34m.\u001b[0m\u001b[0mabsolute\u001b[0m\u001b[0;34m(\u001b[0m\u001b[0;34m)\u001b[0m\u001b[0;34m)\u001b[0m\u001b[0;34m)\u001b[0m  \u001b[0;31m# files (relative to *.txt file parent)\u001b[0m\u001b[0;34m\u001b[0m\u001b[0;34m\u001b[0m\u001b[0m\n\u001b[1;32m    340\u001b[0m             \u001b[0;32melse\u001b[0m\u001b[0;34m:\u001b[0m\u001b[0;34m\u001b[0m\u001b[0;34m\u001b[0m\u001b[0m\n\u001b[0;32m--> 341\u001b[0;31m                 \u001b[0;32mraise\u001b[0m \u001b[0mFileNotFoundError\u001b[0m\u001b[0;34m(\u001b[0m\u001b[0;34mf\"{p} does not exist\"\u001b[0m\u001b[0;34m)\u001b[0m\u001b[0;34m\u001b[0m\u001b[0;34m\u001b[0m\u001b[0m\n\u001b[0m\u001b[1;32m    342\u001b[0m \u001b[0;34m\u001b[0m\u001b[0m\n\u001b[1;32m    343\u001b[0m         \u001b[0;31m# Define files as images or videos\u001b[0m\u001b[0;34m\u001b[0m\u001b[0;34m\u001b[0m\u001b[0m\n",
      "\u001b[0;31mFileNotFoundError\u001b[0m: /root/.cache/kagglehub/datasets/landrykezebou/vcor-vehicle-color-recognition-dataset/versions/1/train/grey/15d01b732c.jpg does not exist"
     ]
    }
   ],
   "source": [
    "#pip install ultralytics\n",
    "\n",
    "from ultralytics import YOLO\n",
    "\n",
    "#carregar modelo pré treinado\n",
    "model = YOLO('yolov8n.pt')\n",
    "#caminho do yaml\n",
    "data_yaml_path = \"yolo_dataset/data.yaml\"\n",
    "\n",
    "#treinar o modelo\n",
    "model.train(\n",
    "    data=data_yaml_path,\n",
    "    epochs=5,            # Número de épocas de treinamento\n",
    "    imgsz=320,            # Tamanho das imagens\n",
    "    batch=32,             # Tamanho do lote Número de imagens processadas em paralelo antes de atualizar os pesos do modelo.\n",
    "    name=\"vehicle_color_yolo\"  # Nome do experimento (opcional)\n",
    ")\n",
    "\n",
    "#Avaliar o modelo no conjunto de teste\n",
    "metrics = model.val(data=data_yaml_path)\n",
    "\n",
    "#salvar o modelo\n",
    "model.save('vehicle_car_color_yolov8n.pt')\n",
    "\n",
    "\n",
    "# Iterar sobre os resultados para exibi-los\n",
    "for result in results:\n",
    "    result.show()  # Exibir a imagem com as predições\n",
    "\n",
    "# Mostrar métricas\n",
    "print(\"Avaliação no conjunto de teste:\")\n",
    "print(metrics)"
   ]
  },
  {
   "cell_type": "markdown",
   "metadata": {
    "id": "GtH7zIr8oWo-"
   },
   "source": [
    "##graficos 5 epocas\n"
   ]
  },
  {
   "cell_type": "code",
   "execution_count": null,
   "metadata": {
    "colab": {
     "base_uri": "https://localhost:8080/",
     "height": 607
    },
    "id": "mSV8vHDvaI0y",
    "outputId": "ec4d5c5a-78ce-4beb-c456-91927b2b322c"
   },
   "outputs": [
    {
     "data": {
      "image/png": "[encoded data removed]",
      "text/plain": [
       "<Figure size 1000x600 with 1 Axes>"
      ]
     },
     "metadata": {},
     "output_type": "display_data"
    }
   ],
   "source": [
    "import matplotlib.pyplot as plt\n",
    "import pandas as pd\n",
    "\n",
    "# Dados\n",
    "data = {\n",
    "    \"Class\": [\"all\", \"white\", \"black\", \"grey\", \"beige\", \"silver\"],\n",
    "    \"Precision (P)\": [0.822, 0.843, 0.853, 0.713, 0.988, 0.712],\n",
    "    \"Recall (R)\": [0.864, 0.939, 0.965, 0.791, 0.886, 0.740],\n",
    "    \"mAP50\": [0.909, 0.963, 0.964, 0.864, 0.980, 0.774],\n",
    "    \"mAP50-95\": [0.909, 0.962, 0.964, 0.863, 0.980, 0.774]\n",
    "}\n",
    "\n",
    "# Convertendo para DataFrame\n",
    "df = pd.DataFrame(data)\n",
    "\n",
    "# Gráficos para Precision, Recall e mAP\n",
    "metrics = [\"Precision (P)\", \"Recall (R)\", \"mAP50\", \"mAP50-95\"]\n",
    "df.set_index(\"Class\")[metrics].plot(kind=\"bar\", figsize=(10, 6))\n",
    "plt.title(\"Performance por Classe\")\n",
    "plt.ylabel(\"Valores\")\n",
    "plt.ylim(0, 1)\n",
    "plt.xticks(rotation=45)\n",
    "plt.legend(loc=\"lower right\")\n",
    "plt.grid(axis=\"y\", linestyle=\"--\", alpha=0.7)\n",
    "plt.tight_layout()\n",
    "plt.show()"
   ]
  },
  {
   "cell_type": "markdown",
   "metadata": {
    "id": "A3jNe1LQpBpT"
   },
   "source": [
    "### 15 Epocas"
   ]
  },
  {
   "cell_type": "code",
   "execution_count": null,
   "metadata": {
    "colab": {
     "base_uri": "https://localhost:8080/",
     "height": 1000
    },
    "id": "ayTsMprOZ_0T",
    "outputId": "a3e316f2-2341-43ca-c4b9-a4573d244467"
   },
   "outputs": [
    {
     "name": "stdout",
     "output_type": "stream",
     "text": [
      "Ultralytics 8.3.70  Python-3.12.7 torch-2.6.0+cpu CPU (Intel Xeon E5-2650 v2 2.60GHz)\n",
      "\u001b[34m\u001b[1mengine\\trainer: \u001b[0mtask=detect, mode=train, model=yolov8n.pt, data=yolo_dataset/data.yaml, epochs=15, time=None, patience=100, batch=32, imgsz=320, save=True, save_period=-1, cache=False, device=None, workers=8, project=None, name=train, exist_ok=False, pretrained=True, optimizer=auto, verbose=True, seed=0, deterministic=True, single_cls=False, rect=False, cos_lr=False, close_mosaic=10, resume=False, amp=True, fraction=1.0, profile=False, freeze=None, multi_scale=False, overlap_mask=True, mask_ratio=4, dropout=0.0, val=True, split=val, save_json=False, save_hybrid=False, conf=None, iou=0.7, max_det=300, half=False, dnn=False, plots=True, source=None, vid_stride=1, stream_buffer=False, visualize=False, augment=False, agnostic_nms=False, classes=None, retina_masks=False, embed=None, show=False, save_frames=False, save_txt=False, save_conf=False, save_crop=False, show_labels=True, show_conf=True, show_boxes=True, line_width=None, format=torchscript, keras=False, optimize=False, int8=False, dynamic=False, simplify=True, opset=None, workspace=None, nms=False, lr0=0.01, lrf=0.01, momentum=0.937, weight_decay=0.0005, warmup_epochs=3.0, warmup_momentum=0.8, warmup_bias_lr=0.1, box=7.5, cls=0.5, dfl=1.5, pose=12.0, kobj=1.0, nbs=64, hsv_h=0.015, hsv_s=0.7, hsv_v=0.4, degrees=0.0, translate=0.1, scale=0.5, shear=0.0, perspective=0.0, flipud=0.0, fliplr=0.5, bgr=0.0, mosaic=1.0, mixup=0.0, copy_paste=0.0, copy_paste_mode=flip, auto_augment=randaugment, erasing=0.4, crop_fraction=1.0, cfg=None, tracker=botsort.yaml, save_dir=runs\\detect\\train\n",
      "Overriding model.yaml nc=80 with nc=7\n",
      "\n",
      "                   from  n    params  module                                       arguments                     \n",
      "  0                  -1  1       464  ultralytics.nn.modules.conv.Conv             [3, 16, 3, 2]                 \n",
      "  1                  -1  1      4672  ultralytics.nn.modules.conv.Conv             [16, 32, 3, 2]                \n",
      "  2                  -1  1      7360  ultralytics.nn.modules.block.C2f             [32, 32, 1, True]             \n",
      "  3                  -1  1     18560  ultralytics.nn.modules.conv.Conv             [32, 64, 3, 2]                \n",
      "  4                  -1  2     49664  ultralytics.nn.modules.block.C2f             [64, 64, 2, True]             \n",
      "  5                  -1  1     73984  ultralytics.nn.modules.conv.Conv             [64, 128, 3, 2]               \n",
      "  6                  -1  2    197632  ultralytics.nn.modules.block.C2f             [128, 128, 2, True]           \n",
      "  7                  -1  1    295424  ultralytics.nn.modules.conv.Conv             [128, 256, 3, 2]              \n",
      "  8                  -1  1    460288  ultralytics.nn.modules.block.C2f             [256, 256, 1, True]           \n",
      "  9                  -1  1    164608  ultralytics.nn.modules.block.SPPF            [256, 256, 5]                 \n",
      " 10                  -1  1         0  torch.nn.modules.upsampling.Upsample         [None, 2, 'nearest']          \n",
      " 11             [-1, 6]  1         0  ultralytics.nn.modules.conv.Concat           [1]                           \n",
      " 12                  -1  1    148224  ultralytics.nn.modules.block.C2f             [384, 128, 1]                 \n",
      " 13                  -1  1         0  torch.nn.modules.upsampling.Upsample         [None, 2, 'nearest']          \n",
      " 14             [-1, 4]  1         0  ultralytics.nn.modules.conv.Concat           [1]                           \n",
      " 15                  -1  1     37248  ultralytics.nn.modules.block.C2f             [192, 64, 1]                  \n",
      " 16                  -1  1     36992  ultralytics.nn.modules.conv.Conv             [64, 64, 3, 2]                \n",
      " 17            [-1, 12]  1         0  ultralytics.nn.modules.conv.Concat           [1]                           \n",
      " 18                  -1  1    123648  ultralytics.nn.modules.block.C2f             [192, 128, 1]                 \n",
      " 19                  -1  1    147712  ultralytics.nn.modules.conv.Conv             [128, 128, 3, 2]              \n",
      " 20             [-1, 9]  1         0  ultralytics.nn.modules.conv.Concat           [1]                           \n",
      " 21                  -1  1    493056  ultralytics.nn.modules.block.C2f             [384, 256, 1]                 \n",
      " 22        [15, 18, 21]  1    752677  ultralytics.nn.modules.head.Detect           [7, [64, 128, 256]]           \n",
      "Model summary: 225 layers, 3,012,213 parameters, 3,012,197 gradients, 8.2 GFLOPs\n",
      "\n",
      "Transferred 319/355 items from pretrained weights\n",
      "Freezing layer 'model.22.dfl.conv.weight'\n"
     ]
    },
    {
     "name": "stderr",
     "output_type": "stream",
     "text": [
      "\u001b[34m\u001b[1mtrain: \u001b[0mScanning C:\\Users\\guilh\\OneDrive\\Documentos\\GitHub\\car-color-recognition\\notebooks\\yolo_dataset\\labels\\train... 4535 images, 0 backgrounds, 0 corrupt: 100%|██████████| 4535/4535 [00:06<00:00, 699.85it/s]\n"
     ]
    },
    {
     "name": "stdout",
     "output_type": "stream",
     "text": [
      "\u001b[34m\u001b[1mtrain: \u001b[0mNew cache created: C:\\Users\\guilh\\OneDrive\\Documentos\\GitHub\\car-color-recognition\\notebooks\\yolo_dataset\\labels\\train.cache\n"
     ]
    },
    {
     "name": "stderr",
     "output_type": "stream",
     "text": [
      "\u001b[34m\u001b[1mval: \u001b[0mScanning C:\\Users\\guilh\\OneDrive\\Documentos\\GitHub\\car-color-recognition\\notebooks\\yolo_dataset\\labels\\val... 966 images, 0 backgrounds, 1 corrupt: 100%|██████████| 967/967 [00:01<00:00, 723.26it/s]\n"
     ]
    },
    {
     "name": "stdout",
     "output_type": "stream",
     "text": [
      "\u001b[34m\u001b[1mval: \u001b[0mWARNING  C:\\Users\\guilh\\OneDrive\\Documentos\\GitHub\\car-color-recognition\\notebooks\\yolo_dataset\\images\\val\\0b2ca4bb14.jpg: ignoring corrupt image/label: image size (7, 10) <10 pixels\n",
      "\u001b[34m\u001b[1mval: \u001b[0mNew cache created: C:\\Users\\guilh\\OneDrive\\Documentos\\GitHub\\car-color-recognition\\notebooks\\yolo_dataset\\labels\\val.cache\n",
      "Plotting labels to runs\\detect\\train\\labels.jpg... \n",
      "\u001b[34m\u001b[1moptimizer:\u001b[0m 'optimizer=auto' found, ignoring 'lr0=0.01' and 'momentum=0.937' and determining best 'optimizer', 'lr0' and 'momentum' automatically... \n",
      "\u001b[34m\u001b[1moptimizer:\u001b[0m AdamW(lr=0.000909, momentum=0.9) with parameter groups 57 weight(decay=0.0), 64 weight(decay=0.0005), 63 bias(decay=0.0)\n",
      "Image sizes 320 train, 320 val\n",
      "Using 0 dataloader workers\n",
      "Logging results to \u001b[1mruns\\detect\\train\u001b[0m\n",
      "Starting training for 15 epochs...\n",
      "\n",
      "      Epoch    GPU_mem   box_loss   cls_loss   dfl_loss  Instances       Size\n"
     ]
    },
    {
     "name": "stderr",
     "output_type": "stream",
     "text": [
      "       1/15         0G     0.3076      2.153     0.9561         72        320: 100%|██████████| 142/142 [10:27<00:00,  4.42s/it]\n",
      "                 Class     Images  Instances      Box(P          R      mAP50  mAP50-95): 100%|██████████| 16/16 [00:30<00:00,  1.90s/it]"
     ]
    },
    {
     "name": "stdout",
     "output_type": "stream",
     "text": [
      "                   all        966        966      0.725      0.804      0.797       0.77\n"
     ]
    },
    {
     "name": "stderr",
     "output_type": "stream",
     "text": [
      "\n"
     ]
    },
    {
     "name": "stdout",
     "output_type": "stream",
     "text": [
      "\n",
      "      Epoch    GPU_mem   box_loss   cls_loss   dfl_loss  Instances       Size\n"
     ]
    },
    {
     "name": "stderr",
     "output_type": "stream",
     "text": [
      "       2/15         0G     0.2031     0.9102     0.8994         70        320: 100%|██████████| 142/142 [10:26<00:00,  4.41s/it]\n",
      "                 Class     Images  Instances      Box(P          R      mAP50  mAP50-95): 100%|██████████| 16/16 [00:31<00:00,  1.95s/it]"
     ]
    },
    {
     "name": "stdout",
     "output_type": "stream",
     "text": [
      "                   all        966        966      0.765      0.803      0.868      0.863\n"
     ]
    },
    {
     "name": "stderr",
     "output_type": "stream",
     "text": [
      "\n"
     ]
    },
    {
     "name": "stdout",
     "output_type": "stream",
     "text": [
      "\n",
      "      Epoch    GPU_mem   box_loss   cls_loss   dfl_loss  Instances       Size\n"
     ]
    },
    {
     "name": "stderr",
     "output_type": "stream",
     "text": [
      "       3/15         0G     0.1858     0.8063     0.8859         78        320: 100%|██████████| 142/142 [11:02<00:00,  4.67s/it]\n",
      "                 Class     Images  Instances      Box(P          R      mAP50  mAP50-95): 100%|██████████| 16/16 [00:31<00:00,  1.99s/it]"
     ]
    },
    {
     "name": "stdout",
     "output_type": "stream",
     "text": [
      "                   all        966        966      0.731      0.838      0.847      0.841\n"
     ]
    },
    {
     "name": "stderr",
     "output_type": "stream",
     "text": [
      "\n"
     ]
    },
    {
     "name": "stdout",
     "output_type": "stream",
     "text": [
      "\n",
      "      Epoch    GPU_mem   box_loss   cls_loss   dfl_loss  Instances       Size\n"
     ]
    },
    {
     "name": "stderr",
     "output_type": "stream",
     "text": [
      "       4/15         0G      0.178     0.7534     0.8812         65        320: 100%|██████████| 142/142 [10:58<00:00,  4.64s/it]\n",
      "                 Class     Images  Instances      Box(P          R      mAP50  mAP50-95): 100%|██████████| 16/16 [00:31<00:00,  1.98s/it]"
     ]
    },
    {
     "name": "stdout",
     "output_type": "stream",
     "text": [
      "                   all        966        966      0.768      0.869      0.878      0.856\n"
     ]
    },
    {
     "name": "stderr",
     "output_type": "stream",
     "text": [
      "\n"
     ]
    },
    {
     "name": "stdout",
     "output_type": "stream",
     "text": [
      "\n",
      "      Epoch    GPU_mem   box_loss   cls_loss   dfl_loss  Instances       Size\n"
     ]
    },
    {
     "name": "stderr",
     "output_type": "stream",
     "text": [
      "       5/15         0G     0.1613     0.6803     0.8735         74        320: 100%|██████████| 142/142 [10:51<00:00,  4.59s/it]\n",
      "                 Class     Images  Instances      Box(P          R      mAP50  mAP50-95): 100%|██████████| 16/16 [00:30<00:00,  1.93s/it]"
     ]
    },
    {
     "name": "stdout",
     "output_type": "stream",
     "text": [
      "                   all        966        966       0.78       0.82      0.896      0.894\n"
     ]
    },
    {
     "name": "stderr",
     "output_type": "stream",
     "text": [
      "\n"
     ]
    },
    {
     "name": "stdout",
     "output_type": "stream",
     "text": [
      "Closing dataloader mosaic\n",
      "\n",
      "      Epoch    GPU_mem   box_loss   cls_loss   dfl_loss  Instances       Size\n"
     ]
    },
    {
     "name": "stderr",
     "output_type": "stream",
     "text": [
      "       6/15         0G     0.1556     0.6636      0.861         23        320: 100%|██████████| 142/142 [10:21<00:00,  4.38s/it]\n",
      "                 Class     Images  Instances      Box(P          R      mAP50  mAP50-95): 100%|██████████| 16/16 [00:29<00:00,  1.87s/it]"
     ]
    },
    {
     "name": "stdout",
     "output_type": "stream",
     "text": [
      "                   all        966        966      0.749      0.737      0.832      0.806\n"
     ]
    },
    {
     "name": "stderr",
     "output_type": "stream",
     "text": [
      "\n"
     ]
    },
    {
     "name": "stdout",
     "output_type": "stream",
     "text": [
      "\n",
      "      Epoch    GPU_mem   box_loss   cls_loss   dfl_loss  Instances       Size\n"
     ]
    },
    {
     "name": "stderr",
     "output_type": "stream",
     "text": [
      "       7/15         0G     0.1271     0.5606     0.8538         23        320: 100%|██████████| 142/142 [10:02<00:00,  4.25s/it]\n",
      "                 Class     Images  Instances      Box(P          R      mAP50  mAP50-95): 100%|██████████| 16/16 [00:28<00:00,  1.79s/it]"
     ]
    },
    {
     "name": "stdout",
     "output_type": "stream",
     "text": [
      "                   all        966        966      0.765      0.865      0.875      0.864\n"
     ]
    },
    {
     "name": "stderr",
     "output_type": "stream",
     "text": [
      "\n"
     ]
    },
    {
     "name": "stdout",
     "output_type": "stream",
     "text": [
      "\n",
      "      Epoch    GPU_mem   box_loss   cls_loss   dfl_loss  Instances       Size\n"
     ]
    },
    {
     "name": "stderr",
     "output_type": "stream",
     "text": [
      "       8/15         0G      0.114     0.4786     0.8488         23        320: 100%|██████████| 142/142 [09:44<00:00,  4.12s/it]\n",
      "                 Class     Images  Instances      Box(P          R      mAP50  mAP50-95): 100%|██████████| 16/16 [00:29<00:00,  1.84s/it]"
     ]
    },
    {
     "name": "stdout",
     "output_type": "stream",
     "text": [
      "                   all        966        966      0.796      0.897      0.899      0.883\n"
     ]
    },
    {
     "name": "stderr",
     "output_type": "stream",
     "text": [
      "\n"
     ]
    },
    {
     "name": "stdout",
     "output_type": "stream",
     "text": [
      "\n",
      "      Epoch    GPU_mem   box_loss   cls_loss   dfl_loss  Instances       Size\n"
     ]
    },
    {
     "name": "stderr",
     "output_type": "stream",
     "text": [
      "       9/15         0G     0.1059     0.4266     0.8442         23        320: 100%|██████████| 142/142 [09:48<00:00,  4.14s/it]\n",
      "                 Class     Images  Instances      Box(P          R      mAP50  mAP50-95): 100%|██████████| 16/16 [00:30<00:00,  1.90s/it]"
     ]
    },
    {
     "name": "stdout",
     "output_type": "stream",
     "text": [
      "                   all        966        966      0.876      0.909      0.945      0.941\n"
     ]
    },
    {
     "name": "stderr",
     "output_type": "stream",
     "text": [
      "\n"
     ]
    },
    {
     "name": "stdout",
     "output_type": "stream",
     "text": [
      "\n",
      "      Epoch    GPU_mem   box_loss   cls_loss   dfl_loss  Instances       Size\n"
     ]
    },
    {
     "name": "stderr",
     "output_type": "stream",
     "text": [
      "      10/15         0G    0.09669     0.4027     0.8394         23        320: 100%|██████████| 142/142 [10:05<00:00,  4.27s/it]\n",
      "                 Class     Images  Instances      Box(P          R      mAP50  mAP50-95): 100%|██████████| 16/16 [00:28<00:00,  1.79s/it]"
     ]
    },
    {
     "name": "stdout",
     "output_type": "stream",
     "text": [
      "                   all        966        966      0.881      0.894      0.943      0.928\n"
     ]
    },
    {
     "name": "stderr",
     "output_type": "stream",
     "text": [
      "\n"
     ]
    },
    {
     "name": "stdout",
     "output_type": "stream",
     "text": [
      "\n",
      "      Epoch    GPU_mem   box_loss   cls_loss   dfl_loss  Instances       Size\n"
     ]
    },
    {
     "name": "stderr",
     "output_type": "stream",
     "text": [
      "      11/15         0G    0.08819     0.3612     0.8382         23        320: 100%|██████████| 142/142 [10:09<00:00,  4.29s/it]\n",
      "                 Class     Images  Instances      Box(P          R      mAP50  mAP50-95): 100%|██████████| 16/16 [00:28<00:00,  1.78s/it]"
     ]
    },
    {
     "name": "stdout",
     "output_type": "stream",
     "text": [
      "                   all        966        966      0.909      0.877      0.942      0.938\n"
     ]
    },
    {
     "name": "stderr",
     "output_type": "stream",
     "text": [
      "\n"
     ]
    },
    {
     "name": "stdout",
     "output_type": "stream",
     "text": [
      "\n",
      "      Epoch    GPU_mem   box_loss   cls_loss   dfl_loss  Instances       Size\n"
     ]
    },
    {
     "name": "stderr",
     "output_type": "stream",
     "text": [
      "      12/15         0G    0.07776     0.3414     0.8392         23        320: 100%|██████████| 142/142 [09:50<00:00,  4.16s/it]\n",
      "                 Class     Images  Instances      Box(P          R      mAP50  mAP50-95): 100%|██████████| 16/16 [00:29<00:00,  1.85s/it]"
     ]
    },
    {
     "name": "stdout",
     "output_type": "stream",
     "text": [
      "                   all        966        966      0.891      0.917      0.944      0.939\n"
     ]
    },
    {
     "name": "stderr",
     "output_type": "stream",
     "text": [
      "\n"
     ]
    },
    {
     "name": "stdout",
     "output_type": "stream",
     "text": [
      "\n",
      "      Epoch    GPU_mem   box_loss   cls_loss   dfl_loss  Instances       Size\n"
     ]
    },
    {
     "name": "stderr",
     "output_type": "stream",
     "text": [
      "      13/15         0G    0.07217      0.298     0.8338         23        320: 100%|██████████| 142/142 [10:03<00:00,  4.25s/it]\n",
      "                 Class     Images  Instances      Box(P          R      mAP50  mAP50-95): 100%|██████████| 16/16 [00:29<00:00,  1.87s/it]"
     ]
    },
    {
     "name": "stdout",
     "output_type": "stream",
     "text": [
      "                   all        966        966      0.883      0.886      0.932      0.926\n"
     ]
    },
    {
     "name": "stderr",
     "output_type": "stream",
     "text": [
      "\n"
     ]
    },
    {
     "name": "stdout",
     "output_type": "stream",
     "text": [
      "\n",
      "      Epoch    GPU_mem   box_loss   cls_loss   dfl_loss  Instances       Size\n"
     ]
    },
    {
     "name": "stderr",
     "output_type": "stream",
     "text": [
      "      14/15         0G    0.06648     0.2822     0.8298         32        320:  69%|██████▉   | 98/142 [06:57<03:18,  4.51s/it]"
     ]
    }
   ],
   "source": [
    "#pip install ultralytics\n",
    "\n",
    "from ultralytics import YOLO\n",
    "\n",
    "#carregar modelo pré treinado\n",
    "model = YOLO('yolov8n.pt')\n",
    "#caminho do yaml\n",
    "data_yaml_path = \"yolo_dataset/data.yaml\"\n",
    "\n",
    "#treinar o modelo\n",
    "model.train(\n",
    "    data=data_yaml_path,\n",
    "    epochs=15,\n",
    "    imgsz=320,\n",
    "    batch=32\n",
    ")\n",
    "\n",
    "#Avaliar o modelo no conjunto de teste\n",
    "metrics = model.val(data=data_yaml_path)\n",
    "\n",
    "#salvar o modelo\n",
    "model.save('C:/Users/guilh/OneDrive/Documentos/GitHub/car-color-recognition/models/vehicle_car_color_yolov8nV2.pt')\n",
    "\n",
    "# Mostrar métricas\n",
    "print(\"Avaliação no conjunto de teste:\")\n",
    "print(metrics)"
   ]
  },
  {
   "cell_type": "markdown",
   "metadata": {
    "id": "FvQUofa6oebc"
   },
   "source": [
    "Graficos 15 epocas"
   ]
  },
  {
   "cell_type": "code",
   "execution_count": null,
   "metadata": {
    "colab": {
     "base_uri": "https://localhost:8080/",
     "height": 1000
    },
    "id": "bdX-Z5G-RUBV",
    "outputId": "14aa1740-5d5e-4969-ecc3-4747bab83cf8"
   },
   "outputs": [
    {
     "data": {
      "image/png": "[encoded data removed]",
      "text/plain": [
       "<Figure size 1200x600 with 1 Axes>"
      ]
     },
     "metadata": {},
     "output_type": "display_data"
    },
    {
     "data": {
      "image/png": "[encoded data removed]",
      "text/plain": [
       "<Figure size 1200x600 with 1 Axes>"
      ]
     },
     "metadata": {},
     "output_type": "display_data"
    }
   ],
   "source": [
    "import matplotlib.pyplot as plt\n",
    "import pandas as pd\n",
    "\n",
    "# Dados extraídos do treinamento do YOLOv8\n",
    "data = {\n",
    "    \"Class\": [\"all\", \"white\", \"black\", \"grey\", \"beige\", \"silver\"],\n",
    "    \"Precision (P)\": [0.822, 0.843, 0.853, 0.713, 0.988, 0.712],\n",
    "    \"Recall (R)\": [0.864, 0.939, 0.965, 0.791, 0.886, 0.740],\n",
    "    \"mAP50\": [0.909, 0.963, 0.964, 0.864, 0.980, 0.774],\n",
    "    \"mAP50-95\": [0.909, 0.962, 0.964, 0.863, 0.980, 0.774]\n",
    "}\n",
    "\n",
    "# Resultados do treinamento por época\n",
    "training_epochs = {\n",
    "    \"Epoch\": list(range(1, 10)),\n",
    "    \"Box(P)\": [0.362, 0.575, 0.610, 0.661, 0.747, 0.740, 0.589, 0.756, 0.789],\n",
    "    \"Recall (R)\": [0.819, 0.811, 0.674, 0.826, 0.858, 0.847, 0.835, 0.851, 0.865],\n",
    "    \"mAP50\": [0.539, 0.760, 0.689, 0.785, 0.864, 0.847, 0.739, 0.862, 0.880],\n",
    "    \"mAP50-95\": [0.537, 0.738, 0.681, 0.782, 0.860, 0.822, 0.720, 0.849, 0.870]\n",
    "}\n",
    "\n",
    "# Convertendo para DataFrames\n",
    "df_metrics = pd.DataFrame(data)\n",
    "df_epochs = pd.DataFrame(training_epochs)\n",
    "\n",
    "# Plot 1: Performance por Classe\n",
    "metrics = [\"Precision (P)\", \"Recall (R)\", \"mAP50\", \"mAP50-95\"]\n",
    "df_metrics.set_index(\"Class\")[metrics].plot(kind=\"bar\", figsize=(12, 6))\n",
    "plt.title(\"Performance por Classe\")\n",
    "plt.ylabel(\"Valores\")\n",
    "plt.ylim(0, 1)\n",
    "plt.xticks(rotation=45)\n",
    "plt.legend(loc=\"lower right\")\n",
    "plt.grid(axis=\"y\", linestyle=\"--\", alpha=0.7)\n",
    "plt.tight_layout()\n",
    "plt.show()\n",
    "\n",
    "# Plot 2: Evolução das métricas por época\n",
    "df_epochs.set_index(\"Epoch\").plot(figsize=(12, 6), marker=\"o\")\n",
    "plt.title(\"Evolução das Métricas por Época\")\n",
    "plt.ylabel(\"Valores\")\n",
    "plt.ylim(0, 1)\n",
    "plt.xlabel(\"Época\")\n",
    "plt.grid(axis=\"y\", linestyle=\"--\", alpha=0.7)\n",
    "plt.legend(title=\"Métricas\", loc=\"lower right\")\n",
    "plt.tight_layout()\n",
    "plt.show()"
   ]
  },
  {
   "cell_type": "code",
   "execution_count": null,
   "metadata": {
    "id": "Qjr19a8joIR6"
   },
   "outputs": [],
   "source": []
  },
  {
   "cell_type": "markdown",
   "metadata": {
    "id": "3_eIadJq3jZ_"
   },
   "source": [
    "#Criação da Interface"
   ]
  },
  {
   "cell_type": "code",
   "execution_count": null,
   "metadata": {
    "colab": {
     "base_uri": "https://localhost:8080/"
    },
    "collapsed": true,
    "id": "DnICF57S3m2G",
    "jupyter": {
     "outputs_hidden": true
    },
    "outputId": "b07d9219-ee09-4ed9-9f31-038dc61dcba4"
   },
   "outputs": [
    {
     "name": "stdout",
     "output_type": "stream",
     "text": [
      "Requirement already satisfied: streamlit in /usr/local/lib/python3.10/dist-packages (1.41.1)\n",
      "Requirement already satisfied: altair<6,>=4.0 in /usr/local/lib/python3.10/dist-packages (from streamlit) (5.5.0)\n",
      "Requirement already satisfied: blinker<2,>=1.0.0 in /usr/local/lib/python3.10/dist-packages (from streamlit) (1.9.0)\n",
      "Requirement already satisfied: cachetools<6,>=4.0 in /usr/local/lib/python3.10/dist-packages (from streamlit) (5.5.0)\n",
      "Requirement already satisfied: click<9,>=7.0 in /usr/local/lib/python3.10/dist-packages (from streamlit) (8.1.8)\n",
      "Requirement already satisfied: numpy<3,>=1.23 in /usr/local/lib/python3.10/dist-packages (from streamlit) (1.26.4)\n",
      "Requirement already satisfied: packaging<25,>=20 in /usr/local/lib/python3.10/dist-packages (from streamlit) (24.2)\n",
      "Requirement already satisfied: pandas<3,>=1.4.0 in /usr/local/lib/python3.10/dist-packages (from streamlit) (2.2.2)\n",
      "Requirement already satisfied: pillow<12,>=7.1.0 in /usr/local/lib/python3.10/dist-packages (from streamlit) (11.1.0)\n",
      "Requirement already satisfied: protobuf<6,>=3.20 in /usr/local/lib/python3.10/dist-packages (from streamlit) (4.25.5)\n",
      "Requirement already satisfied: pyarrow>=7.0 in /usr/local/lib/python3.10/dist-packages (from streamlit) (17.0.0)\n",
      "Requirement already satisfied: requests<3,>=2.27 in /usr/local/lib/python3.10/dist-packages (from streamlit) (2.32.3)\n",
      "Requirement already satisfied: rich<14,>=10.14.0 in /usr/local/lib/python3.10/dist-packages (from streamlit) (13.9.4)\n",
      "Requirement already satisfied: tenacity<10,>=8.1.0 in /usr/local/lib/python3.10/dist-packages (from streamlit) (9.0.0)\n",
      "Requirement already satisfied: toml<2,>=0.10.1 in /usr/local/lib/python3.10/dist-packages (from streamlit) (0.10.2)\n",
      "Requirement already satisfied: typing-extensions<5,>=4.3.0 in /usr/local/lib/python3.10/dist-packages (from streamlit) (4.12.2)\n",
      "Requirement already satisfied: watchdog<7,>=2.1.5 in /usr/local/lib/python3.10/dist-packages (from streamlit) (6.0.0)\n",
      "Requirement already satisfied: gitpython!=3.1.19,<4,>=3.0.7 in /usr/local/lib/python3.10/dist-packages (from streamlit) (3.1.44)\n",
      "Requirement already satisfied: pydeck<1,>=0.8.0b4 in /usr/local/lib/python3.10/dist-packages (from streamlit) (0.9.1)\n",
      "Requirement already satisfied: tornado<7,>=6.0.3 in /usr/local/lib/python3.10/dist-packages (from streamlit) (6.3.3)\n",
      "Requirement already satisfied: jinja2 in /usr/local/lib/python3.10/dist-packages (from altair<6,>=4.0->streamlit) (3.1.5)\n",
      "Requirement already satisfied: jsonschema>=3.0 in /usr/local/lib/python3.10/dist-packages (from altair<6,>=4.0->streamlit) (4.23.0)\n",
      "Requirement already satisfied: narwhals>=1.14.2 in /usr/local/lib/python3.10/dist-packages (from altair<6,>=4.0->streamlit) (1.21.1)\n",
      "Requirement already satisfied: gitdb<5,>=4.0.1 in /usr/local/lib/python3.10/dist-packages (from gitpython!=3.1.19,<4,>=3.0.7->streamlit) (4.0.12)\n",
      "Requirement already satisfied: python-dateutil>=2.8.2 in /usr/local/lib/python3.10/dist-packages (from pandas<3,>=1.4.0->streamlit) (2.8.2)\n",
      "Requirement already satisfied: pytz>=2020.1 in /usr/local/lib/python3.10/dist-packages (from pandas<3,>=1.4.0->streamlit) (2024.2)\n",
      "Requirement already satisfied: tzdata>=2022.7 in /usr/local/lib/python3.10/dist-packages (from pandas<3,>=1.4.0->streamlit) (2024.2)\n",
      "Requirement already satisfied: charset-normalizer<4,>=2 in /usr/local/lib/python3.10/dist-packages (from requests<3,>=2.27->streamlit) (3.4.1)\n",
      "Requirement already satisfied: idna<4,>=2.5 in /usr/local/lib/python3.10/dist-packages (from requests<3,>=2.27->streamlit) (3.10)\n",
      "Requirement already satisfied: urllib3<3,>=1.21.1 in /usr/local/lib/python3.10/dist-packages (from requests<3,>=2.27->streamlit) (2.3.0)\n",
      "Requirement already satisfied: certifi>=2017.4.17 in /usr/local/lib/python3.10/dist-packages (from requests<3,>=2.27->streamlit) (2024.12.14)\n",
      "Requirement already satisfied: markdown-it-py>=2.2.0 in /usr/local/lib/python3.10/dist-packages (from rich<14,>=10.14.0->streamlit) (3.0.0)\n",
      "Requirement already satisfied: pygments<3.0.0,>=2.13.0 in /usr/local/lib/python3.10/dist-packages (from rich<14,>=10.14.0->streamlit) (2.18.0)\n",
      "Requirement already satisfied: smmap<6,>=3.0.1 in /usr/local/lib/python3.10/dist-packages (from gitdb<5,>=4.0.1->gitpython!=3.1.19,<4,>=3.0.7->streamlit) (5.0.2)\n",
      "Requirement already satisfied: MarkupSafe>=2.0 in /usr/local/lib/python3.10/dist-packages (from jinja2->altair<6,>=4.0->streamlit) (3.0.2)\n",
      "Requirement already satisfied: attrs>=22.2.0 in /usr/local/lib/python3.10/dist-packages (from jsonschema>=3.0->altair<6,>=4.0->streamlit) (24.3.0)\n",
      "Requirement already satisfied: jsonschema-specifications>=2023.03.6 in /usr/local/lib/python3.10/dist-packages (from jsonschema>=3.0->altair<6,>=4.0->streamlit) (2024.10.1)\n",
      "Requirement already satisfied: referencing>=0.28.4 in /usr/local/lib/python3.10/dist-packages (from jsonschema>=3.0->altair<6,>=4.0->streamlit) (0.35.1)\n",
      "Requirement already satisfied: rpds-py>=0.7.1 in /usr/local/lib/python3.10/dist-packages (from jsonschema>=3.0->altair<6,>=4.0->streamlit) (0.22.3)\n",
      "Requirement already satisfied: mdurl~=0.1 in /usr/local/lib/python3.10/dist-packages (from markdown-it-py>=2.2.0->rich<14,>=10.14.0->streamlit) (0.1.2)\n",
      "Requirement already satisfied: six>=1.5 in /usr/local/lib/python3.10/dist-packages (from python-dateutil>=2.8.2->pandas<3,>=1.4.0->streamlit) (1.17.0)\n",
      "Requirement already satisfied: pyngrok in /usr/local/lib/python3.10/dist-packages (7.2.3)\n",
      "Requirement already satisfied: PyYAML>=5.1 in /usr/local/lib/python3.10/dist-packages (from pyngrok) (6.0.2)\n"
     ]
    }
   ],
   "source": [
    "!pip install streamlit\n",
    "!pip install pyngrok"
   ]
  },
  {
   "cell_type": "code",
   "execution_count": null,
   "metadata": {
    "colab": {
     "base_uri": "https://localhost:8080/"
    },
    "id": "KGPy0fpi5Sm3",
    "outputId": "7adb1e7f-799c-4425-c06b-93fe9780959f"
   },
   "outputs": [
    {
     "name": "stdout",
     "output_type": "stream",
     "text": [
      "O modelo foi salvo em: /content/vehicle_car_color_yolov8n.pt\n"
     ]
    }
   ],
   "source": [
    "import os\n",
    "\n",
    "# Obter o caminho absoluto do arquivo salvo\n",
    "saved_model_path = os.path.abspath('vehicle_car_color_yolov8n.pt')\n",
    "print(f\"O modelo foi salvo em: {saved_model_path}\")"
   ]
  },
  {
   "cell_type": "code",
   "execution_count": null,
   "metadata": {
    "colab": {
     "base_uri": "https://localhost:8080/"
    },
    "id": "66NOIyUY3mz0",
    "outputId": "5a9c7566-3cfa-415c-a315-cbadbc356847"
   },
   "outputs": [
    {
     "name": "stdout",
     "output_type": "stream",
     "text": [
      "Overwriting app.py\n"
     ]
    }
   ],
   "source": [
    "%%writefile app.py\n",
    "import streamlit as st\n",
    "from PIL import Image\n",
    "from ultralytics import YOLO\n",
    "\n",
    "# Carregue o modelo\n",
    "model = YOLO(\"/content/vehicle_car_color_yolov8n.pt\")  # Substitua pelo seu modelo treinado\n",
    "\n",
    "st.title(\"Reconhecimento de Cores de Carros\")\n",
    "st.write(\"Este projeto utiliza YOLOv8 para detectar e classificar cores de carros.\")\n",
    "\n",
    "# Upload de imagem\n",
    "uploaded_file = st.file_uploader(\"Carregue uma imagem\", type=[\"jpg\", \"jpeg\", \"png\"])\n",
    "\n",
    "if uploaded_file:\n",
    "    # Exiba a imagem carregada\n",
    "    image = Image.open(uploaded_file)\n",
    "    st.image(image, caption=\"Imagem carregada\", use_column_width=True)\n",
    "\n",
    "    # Faça a predição\n",
    "    st.write(\"Processando a imagem...\")\n",
    "    results = model(image)\n",
    "\n",
    "    # Exiba os resultados\n",
    "    st.write(\"### Resultados:\")\n",
    "    for r in results:\n",
    "        for box in r.boxes:\n",
    "            # Converta o tensor para um valor numérico\n",
    "            st.write(f\"Classe: {int(box.cls)}, Confiança: {float(box.conf):.2f}\")\n",
    "\n",
    "\n",
    "    # Visualize a imagem com predições\n",
    "    annotated_image = results[0].plot()\n",
    "    st.image(annotated_image, caption=\"Predições do modelo\", use_column_width=True)"
   ]
  },
  {
   "cell_type": "code",
   "execution_count": null,
   "metadata": {
    "colab": {
     "base_uri": "https://localhost:8080/"
    },
    "id": "163BVIyCRez1",
    "outputId": "6d97ff7c-05ef-4f9a-fa93-212f9b9c0cff"
   },
   "outputs": [
    {
     "name": "stdout",
     "output_type": "stream",
     "text": [
      "Overwriting app.py\n"
     ]
    }
   ],
   "source": [
    "%%writefile app.py\n",
    "import streamlit as st\n",
    "from PIL import Image\n",
    "from ultralytics import YOLO\n",
    "\n",
    "# Carregue o modelo\n",
    "model = YOLO(\"/content/vehicle_car_color_yolov8nV2.pt\")  # Substitua pelo seu modelo treinado\n",
    "\n",
    "st.title(\"Reconhecimento de Cores de Carros\")\n",
    "st.write(\"Este projeto utiliza YOLOv8 para detectar e classificar cores de carros.\")\n",
    "\n",
    "# Upload de imagem\n",
    "uploaded_file = st.file_uploader(\"Carregue uma imagem\", type=[\"jpg\", \"jpeg\", \"png\"])\n",
    "\n",
    "if uploaded_file:\n",
    "    # Exiba a imagem carregada\n",
    "    image = Image.open(uploaded_file)\n",
    "    st.image(image, caption=\"Imagem carregada\", use_column_width=True)\n",
    "\n",
    "    # Faça a predição\n",
    "    st.write(\"Processando a imagem...\")\n",
    "    results = model(image)\n",
    "\n",
    "    # Exiba os resultados\n",
    "    st.write(\"### Resultados:\")\n",
    "    for r in results:\n",
    "        for box in r.boxes:\n",
    "            # Converta o tensor para um valor numérico\n",
    "            st.write(f\"Classe: {int(box.cls)}, Confiança: {float(box.conf):.2f}\")\n",
    "\n",
    "\n",
    "    # Visualize a imagem com predições\n",
    "    annotated_image = results[0].plot()\n",
    "    st.image(annotated_image, caption=\"Predições do modelo\", use_column_width=True)"
   ]
  },
  {
   "cell_type": "code",
   "execution_count": null,
   "metadata": {
    "colab": {
     "base_uri": "https://localhost:8080/"
    },
    "id": "EwSsWQKM3mxG",
    "outputId": "98bd6797-c00a-46b4-8720-5a1b1382e2b8"
   },
   "outputs": [
    {
     "name": "stdout",
     "output_type": "stream",
     "text": [
      "Authtoken saved to configuration file: /root/.config/ngrok/ngrok.yml\n"
     ]
    }
   ],
   "source": [
    "!ngrok authtoken 2rd6NsrH7xdSIz7EhzeJBEog8ge_heE8HF2r7WWNNXYy2pJZ"
   ]
  },
  {
   "cell_type": "code",
   "execution_count": null,
   "metadata": {
    "colab": {
     "base_uri": "https://localhost:8080/"
    },
    "id": "pForCEhx3mue",
    "outputId": "3898d4e8-9066-47e8-e84f-740108d4857a"
   },
   "outputs": [
    {
     "name": "stdout",
     "output_type": "stream",
     "text": [
      "Acesse o app através do link: NgrokTunnel: \"https://33ba-34-106-224-148.ngrok-free.app\" -> \"http://localhost:8501\"\n"
     ]
    }
   ],
   "source": [
    "from pyngrok import ngrok\n",
    "\n",
    "# Cria um túnel para a porta padrão do Streamlit (8501)\n",
    "public_url = ngrok.connect(8501)\n",
    "print('Acesse o app através do link:', public_url)"
   ]
  },
  {
   "cell_type": "code",
   "execution_count": null,
   "metadata": {
    "colab": {
     "background_save": true,
     "base_uri": "https://localhost:8080/"
    },
    "id": "7HxhM7BJ3mrh",
    "outputId": "09144558-b8fa-4ceb-9cb0-72685a7db220"
   },
   "outputs": [
    {
     "name": "stdout",
     "output_type": "stream",
     "text": [
      "\n",
      "Collecting usage statistics. To deactivate, set browser.gatherUsageStats to false.\n",
      "\u001b[0m\n",
      "\u001b[0m\n",
      "\u001b[34m\u001b[1m  You can now view your Streamlit app in your browser.\u001b[0m\n",
      "\u001b[0m\n",
      "\u001b[34m  Local URL: \u001b[0m\u001b[1mhttp://localhost:8501\u001b[0m\n",
      "\u001b[34m  Network URL: \u001b[0m\u001b[1mhttp://172.28.0.2:8501\u001b[0m\n",
      "\u001b[34m  External URL: \u001b[0m\u001b[1mhttp://34.106.224.148:8501\u001b[0m\n",
      "\u001b[0m\n",
      "2025-01-15 00:04:31.934 Examining the path of torch.classes raised: Tried to instantiate class '__path__._path', but it does not exist! Ensure that it is registered via torch::class_\n",
      "2025-01-15 00:04:39.680 The `use_column_width` parameter has been deprecated and will be removed in a future release. Please utilize the `use_container_width` parameter instead.\n",
      "\n",
      "0: 192x320 1 grey, 53.8ms\n",
      "Speed: 1.5ms preprocess, 53.8ms inference, 2.2ms postprocess per image at shape (1, 3, 192, 320)\n",
      "2025-01-15 00:04:40.626 The `use_column_width` parameter has been deprecated and will be removed in a future release. Please utilize the `use_container_width` parameter instead.\n",
      "2025-01-15 00:04:40.864 Examining the path of torch.classes raised: Tried to instantiate class '__path__._path', but it does not exist! Ensure that it is registered via torch::class_\n",
      "2025-01-15 00:04:53.588 The `use_column_width` parameter has been deprecated and will be removed in a future release. Please utilize the `use_container_width` parameter instead.\n",
      "\n",
      "0: 192x320 1 silver, 37.8ms\n",
      "Speed: 0.9ms preprocess, 37.8ms inference, 0.7ms postprocess per image at shape (1, 3, 192, 320)\n",
      "2025-01-15 00:04:53.738 The `use_column_width` parameter has been deprecated and will be removed in a future release. Please utilize the `use_container_width` parameter instead.\n",
      "2025-01-15 00:04:54.025 Examining the path of torch.classes raised: Tried to instantiate class '__path__._path', but it does not exist! Ensure that it is registered via torch::class_\n",
      "2025-01-15 00:05:02.949 The `use_column_width` parameter has been deprecated and will be removed in a future release. Please utilize the `use_container_width` parameter instead.\n",
      "\n",
      "0: 160x320 1 grey, 1 silver, 39.6ms\n",
      "Speed: 0.7ms preprocess, 39.6ms inference, 0.8ms postprocess per image at shape (1, 3, 160, 320)\n",
      "2025-01-15 00:05:03.014 The `use_column_width` parameter has been deprecated and will be removed in a future release. Please utilize the `use_container_width` parameter instead.\n",
      "2025-01-15 00:05:14.763 The `use_column_width` parameter has been deprecated and will be removed in a future release. Please utilize the `use_container_width` parameter instead.\n",
      "\n",
      "0: 192x320 1 white, 43.3ms\n",
      "Speed: 0.9ms preprocess, 43.3ms inference, 0.7ms postprocess per image at shape (1, 3, 192, 320)\n",
      "2025-01-15 00:05:14.836 The `use_column_width` parameter has been deprecated and will be removed in a future release. Please utilize the `use_container_width` parameter instead.\n",
      "2025-01-15 00:05:23.558 Uncaught app execution\n",
      "Traceback (most recent call last):\n",
      "  File \"/usr/local/lib/python3.10/dist-packages/streamlit/runtime/scriptrunner/exec_code.py\", line 88, in exec_func_with_error_handling\n",
      "    result = func()\n",
      "  File \"/usr/local/lib/python3.10/dist-packages/streamlit/runtime/scriptrunner/script_runner.py\", line 579, in code_to_exec\n",
      "    exec(code, module.__dict__)\n",
      "  File \"/content/app.py\", line 16, in <module>\n",
      "    image = Image.open(uploaded_file)\n",
      "  File \"/usr/local/lib/python3.10/dist-packages/PIL/Image.py\", line 3532, in open\n",
      "    raise UnidentifiedImageError(msg)\n",
      "PIL.UnidentifiedImageError: cannot identify image file UploadedFile(file_id='fe5aefc1-02f9-4fce-9771-cde611f725ca', name='http___com.ft.imagepublish.upp-prod-eu.s3.amazonaws.jpg', type='image/jpeg', size=22105, _file_urls=file_id: \"fe5aefc1-02f9-4fce-9771-cde611f725ca\"\n",
      "upload_url: \"/_stcore/upload_file/a6b27281-7c85-4c91-82e5-418ab2f5b4b2/fe5aefc1-02f9-4fce-9771-cde611f725ca\"\n",
      "delete_url: \"/_stcore/upload_file/a6b27281-7c85-4c91-82e5-418ab2f5b4b2/fe5aefc1-02f9-4fce-9771-cde611f725ca\"\n",
      ")\n",
      "2025-01-15 00:05:23.795 Examining the path of torch.classes raised: Tried to instantiate class '__path__._path', but it does not exist! Ensure that it is registered via torch::class_\n",
      "2025-01-15 00:05:30.192 Uncaught app execution\n",
      "Traceback (most recent call last):\n",
      "  File \"/usr/local/lib/python3.10/dist-packages/streamlit/runtime/scriptrunner/exec_code.py\", line 88, in exec_func_with_error_handling\n",
      "    result = func()\n",
      "  File \"/usr/local/lib/python3.10/dist-packages/streamlit/runtime/scriptrunner/script_runner.py\", line 579, in code_to_exec\n",
      "    exec(code, module.__dict__)\n",
      "  File \"/content/app.py\", line 16, in <module>\n",
      "    image = Image.open(uploaded_file)\n",
      "  File \"/usr/local/lib/python3.10/dist-packages/PIL/Image.py\", line 3532, in open\n",
      "    raise UnidentifiedImageError(msg)\n",
      "PIL.UnidentifiedImageError: cannot identify image file UploadedFile(file_id='744d4be7-c7f9-41c4-82f2-039dea85aa24', name='http___com.ft.imagepublish.upp-prod-eu.s3.amazonaws.jpg', type='image/jpeg', size=22105, _file_urls=file_id: \"744d4be7-c7f9-41c4-82f2-039dea85aa24\"\n",
      "upload_url: \"/_stcore/upload_file/a6b27281-7c85-4c91-82e5-418ab2f5b4b2/744d4be7-c7f9-41c4-82f2-039dea85aa24\"\n",
      "delete_url: \"/_stcore/upload_file/a6b27281-7c85-4c91-82e5-418ab2f5b4b2/744d4be7-c7f9-41c4-82f2-039dea85aa24\"\n",
      ")\n",
      "2025-01-15 00:05:33.503 The `use_column_width` parameter has been deprecated and will be removed in a future release. Please utilize the `use_container_width` parameter instead.\n",
      "\n",
      "0: 160x320 1 grey, 1 silver, 34.6ms\n",
      "Speed: 0.7ms preprocess, 34.6ms inference, 0.7ms postprocess per image at shape (1, 3, 160, 320)\n",
      "2025-01-15 00:05:33.562 The `use_column_width` parameter has been deprecated and will be removed in a future release. Please utilize the `use_container_width` parameter instead.\n",
      "2025-01-15 00:05:40.967 The `use_column_width` parameter has been deprecated and will be removed in a future release. Please utilize the `use_container_width` parameter instead.\n",
      "\n",
      "0: 256x320 1 black, 53.4ms\n",
      "Speed: 1.1ms preprocess, 53.4ms inference, 0.9ms postprocess per image at shape (1, 3, 256, 320)\n",
      "2025-01-15 00:05:41.234 The `use_column_width` parameter has been deprecated and will be removed in a future release. Please utilize the `use_container_width` parameter instead.\n",
      "2025-01-15 00:06:00.413 The `use_column_width` parameter has been deprecated and will be removed in a future release. Please utilize the `use_container_width` parameter instead.\n",
      "\n",
      "0: 192x320 1 black, 65.1ms\n",
      "Speed: 1.2ms preprocess, 65.1ms inference, 1.0ms postprocess per image at shape (1, 3, 192, 320)\n",
      "2025-01-15 00:06:00.516 The `use_column_width` parameter has been deprecated and will be removed in a future release. Please utilize the `use_container_width` parameter instead.\n",
      "2025-01-15 00:06:19.652 The `use_column_width` parameter has been deprecated and will be removed in a future release. Please utilize the `use_container_width` parameter instead.\n",
      "\n",
      "0: 320x192 1 beige, 44.0ms\n",
      "Speed: 1.2ms preprocess, 44.0ms inference, 0.8ms postprocess per image at shape (1, 3, 320, 192)\n",
      "2025-01-15 00:06:20.261 The `use_column_width` parameter has been deprecated and will be removed in a future release. Please utilize the `use_container_width` parameter instead.\n"
     ]
    }
   ],
   "source": [
    "!streamlit run app.py"
   ]
  },
  {
   "cell_type": "code",
   "execution_count": null,
   "metadata": {
    "id": "vYeMxFQk3mo8"
   },
   "outputs": [],
   "source": []
  },
  {
   "cell_type": "code",
   "execution_count": null,
   "metadata": {
    "id": "L9lu7ELf3mmK"
   },
   "outputs": [],
   "source": []
  },
  {
   "cell_type": "code",
   "execution_count": null,
   "metadata": {
    "id": "FBL-qMsn3mjU"
   },
   "outputs": [],
   "source": []
  },
  {
   "cell_type": "code",
   "execution_count": null,
   "metadata": {
    "id": "vIMhJ5qT3mgp"
   },
   "outputs": [],
   "source": []
  },
  {
   "cell_type": "code",
   "execution_count": null,
   "metadata": {
    "id": "UmqrraL93md3"
   },
   "outputs": [],
   "source": []
  }
 ],
 "metadata": {
  "colab": {
   "provenance": []
  },
  "kernelspec": {
   "display_name": "Python [conda env:base] *",
   "language": "python",
   "name": "conda-base-py"
  },
  "language_info": {
   "codemirror_mode": {
    "name": "ipython",
    "version": 3
   },
   "file_extension": ".py",
   "mimetype": "text/x-python",
   "name": "python",
   "nbconvert_exporter": "python",
   "pygments_lexer": "ipython3",
   "version": "3.12.7"
  }
 },
 "nbformat": 4,
 "nbformat_minor": 4
}
