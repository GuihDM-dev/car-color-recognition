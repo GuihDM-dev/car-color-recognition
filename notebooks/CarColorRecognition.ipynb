{
  "nbformat": 4,
  "nbformat_minor": 0,
  "metadata": {
    "colab": {
      "provenance": [],
      "authorship_tag": "ABX9TyOC/iw74wYaEXcVK2DgonZJ",
      "include_colab_link": true
    },
    "kernelspec": {
      "name": "python3",
      "display_name": "Python 3"
    },
    "language_info": {
      "name": "python"
    }
  },
  "cells": [
    {
      "cell_type": "markdown",
      "metadata": {
        "id": "view-in-github",
        "colab_type": "text"
      },
      "source": [
        "<a href=\"https://colab.research.google.com/github/GuihDM-dev/car-color-recognition/blob/main/notebooks/CarColorRecognition.ipynb\" target=\"_parent\"><img src=\"https://colab.research.google.com/assets/colab-badge.svg\" alt=\"Open In Colab\"/></a>"
      ]
    },
    {
      "cell_type": "markdown",
      "source": [
        "##Vamos começar instalando e importando oque será necessario\n"
      ],
      "metadata": {
        "id": "PPWQbd_GWBoH"
      }
    },
    {
      "cell_type": "code",
      "source": [
        "# Instalar as dependências\n",
        "!pip install ultralytics opencv-python matplotlib gdown\n"
      ],
      "metadata": {
        "colab": {
          "base_uri": "https://localhost:8080/"
        },
        "collapsed": true,
        "id": "_DxW4TaxWDe3",
        "outputId": "eeb75fc2-9ae0-4458-83cf-466e1f1ccc22"
      },
      "execution_count": 1,
      "outputs": [
        {
          "output_type": "stream",
          "name": "stdout",
          "text": [
            "Collecting ultralytics\n",
            "  Downloading ultralytics-8.3.59-py3-none-any.whl.metadata (35 kB)\n",
            "Requirement already satisfied: opencv-python in /usr/local/lib/python3.10/dist-packages (4.10.0.84)\n",
            "Requirement already satisfied: matplotlib in /usr/local/lib/python3.10/dist-packages (3.10.0)\n",
            "Requirement already satisfied: gdown in /usr/local/lib/python3.10/dist-packages (5.2.0)\n",
            "Requirement already satisfied: numpy>=1.23.0 in /usr/local/lib/python3.10/dist-packages (from ultralytics) (1.26.4)\n",
            "Requirement already satisfied: pillow>=7.1.2 in /usr/local/lib/python3.10/dist-packages (from ultralytics) (11.1.0)\n",
            "Requirement already satisfied: pyyaml>=5.3.1 in /usr/local/lib/python3.10/dist-packages (from ultralytics) (6.0.2)\n",
            "Requirement already satisfied: requests>=2.23.0 in /usr/local/lib/python3.10/dist-packages (from ultralytics) (2.32.3)\n",
            "Requirement already satisfied: scipy>=1.4.1 in /usr/local/lib/python3.10/dist-packages (from ultralytics) (1.13.1)\n",
            "Requirement already satisfied: torch>=1.8.0 in /usr/local/lib/python3.10/dist-packages (from ultralytics) (2.5.1+cu121)\n",
            "Requirement already satisfied: torchvision>=0.9.0 in /usr/local/lib/python3.10/dist-packages (from ultralytics) (0.20.1+cu121)\n",
            "Requirement already satisfied: tqdm>=4.64.0 in /usr/local/lib/python3.10/dist-packages (from ultralytics) (4.67.1)\n",
            "Requirement already satisfied: psutil in /usr/local/lib/python3.10/dist-packages (from ultralytics) (5.9.5)\n",
            "Requirement already satisfied: py-cpuinfo in /usr/local/lib/python3.10/dist-packages (from ultralytics) (9.0.0)\n",
            "Requirement already satisfied: pandas>=1.1.4 in /usr/local/lib/python3.10/dist-packages (from ultralytics) (2.2.2)\n",
            "Requirement already satisfied: seaborn>=0.11.0 in /usr/local/lib/python3.10/dist-packages (from ultralytics) (0.13.2)\n",
            "Collecting ultralytics-thop>=2.0.0 (from ultralytics)\n",
            "  Downloading ultralytics_thop-2.0.13-py3-none-any.whl.metadata (9.4 kB)\n",
            "Requirement already satisfied: contourpy>=1.0.1 in /usr/local/lib/python3.10/dist-packages (from matplotlib) (1.3.1)\n",
            "Requirement already satisfied: cycler>=0.10 in /usr/local/lib/python3.10/dist-packages (from matplotlib) (0.12.1)\n",
            "Requirement already satisfied: fonttools>=4.22.0 in /usr/local/lib/python3.10/dist-packages (from matplotlib) (4.55.3)\n",
            "Requirement already satisfied: kiwisolver>=1.3.1 in /usr/local/lib/python3.10/dist-packages (from matplotlib) (1.4.8)\n",
            "Requirement already satisfied: packaging>=20.0 in /usr/local/lib/python3.10/dist-packages (from matplotlib) (24.2)\n",
            "Requirement already satisfied: pyparsing>=2.3.1 in /usr/local/lib/python3.10/dist-packages (from matplotlib) (3.2.1)\n",
            "Requirement already satisfied: python-dateutil>=2.7 in /usr/local/lib/python3.10/dist-packages (from matplotlib) (2.8.2)\n",
            "Requirement already satisfied: beautifulsoup4 in /usr/local/lib/python3.10/dist-packages (from gdown) (4.12.3)\n",
            "Requirement already satisfied: filelock in /usr/local/lib/python3.10/dist-packages (from gdown) (3.16.1)\n",
            "Requirement already satisfied: pytz>=2020.1 in /usr/local/lib/python3.10/dist-packages (from pandas>=1.1.4->ultralytics) (2024.2)\n",
            "Requirement already satisfied: tzdata>=2022.7 in /usr/local/lib/python3.10/dist-packages (from pandas>=1.1.4->ultralytics) (2024.2)\n",
            "Requirement already satisfied: six>=1.5 in /usr/local/lib/python3.10/dist-packages (from python-dateutil>=2.7->matplotlib) (1.17.0)\n",
            "Requirement already satisfied: charset-normalizer<4,>=2 in /usr/local/lib/python3.10/dist-packages (from requests>=2.23.0->ultralytics) (3.4.1)\n",
            "Requirement already satisfied: idna<4,>=2.5 in /usr/local/lib/python3.10/dist-packages (from requests>=2.23.0->ultralytics) (3.10)\n",
            "Requirement already satisfied: urllib3<3,>=1.21.1 in /usr/local/lib/python3.10/dist-packages (from requests>=2.23.0->ultralytics) (2.3.0)\n",
            "Requirement already satisfied: certifi>=2017.4.17 in /usr/local/lib/python3.10/dist-packages (from requests>=2.23.0->ultralytics) (2024.12.14)\n",
            "Requirement already satisfied: typing-extensions>=4.8.0 in /usr/local/lib/python3.10/dist-packages (from torch>=1.8.0->ultralytics) (4.12.2)\n",
            "Requirement already satisfied: networkx in /usr/local/lib/python3.10/dist-packages (from torch>=1.8.0->ultralytics) (3.4.2)\n",
            "Requirement already satisfied: jinja2 in /usr/local/lib/python3.10/dist-packages (from torch>=1.8.0->ultralytics) (3.1.5)\n",
            "Requirement already satisfied: fsspec in /usr/local/lib/python3.10/dist-packages (from torch>=1.8.0->ultralytics) (2024.10.0)\n",
            "Requirement already satisfied: sympy==1.13.1 in /usr/local/lib/python3.10/dist-packages (from torch>=1.8.0->ultralytics) (1.13.1)\n",
            "Requirement already satisfied: mpmath<1.4,>=1.1.0 in /usr/local/lib/python3.10/dist-packages (from sympy==1.13.1->torch>=1.8.0->ultralytics) (1.3.0)\n",
            "Requirement already satisfied: soupsieve>1.2 in /usr/local/lib/python3.10/dist-packages (from beautifulsoup4->gdown) (2.6)\n",
            "Requirement already satisfied: PySocks!=1.5.7,>=1.5.6 in /usr/local/lib/python3.10/dist-packages (from requests[socks]->gdown) (1.7.1)\n",
            "Requirement already satisfied: MarkupSafe>=2.0 in /usr/local/lib/python3.10/dist-packages (from jinja2->torch>=1.8.0->ultralytics) (3.0.2)\n",
            "Downloading ultralytics-8.3.59-py3-none-any.whl (906 kB)\n",
            "\u001b[2K   \u001b[90m━━━━━━━━━━━━━━━━━━━━━━━━━━━━━━━━━━━━━━━━\u001b[0m \u001b[32m906.8/906.8 kB\u001b[0m \u001b[31m13.7 MB/s\u001b[0m eta \u001b[36m0:00:00\u001b[0m\n",
            "\u001b[?25hDownloading ultralytics_thop-2.0.13-py3-none-any.whl (26 kB)\n",
            "Installing collected packages: ultralytics-thop, ultralytics\n",
            "Successfully installed ultralytics-8.3.59 ultralytics-thop-2.0.13\n"
          ]
        }
      ]
    },
    {
      "cell_type": "code",
      "source": [
        "#Importanto o dataset\n",
        "import kagglehub\n",
        "\n",
        "# Download latest version\n",
        "path = kagglehub.dataset_download(\"landrykezebou/vcor-vehicle-color-recognition-dataset\")\n",
        "\n",
        "print(\"Path to dataset files:\", path)"
      ],
      "metadata": {
        "colab": {
          "base_uri": "https://localhost:8080/"
        },
        "id": "Grn8vA09WYLK",
        "outputId": "f29a4bf3-f8f0-4cf6-fa67-d14717af3546"
      },
      "execution_count": 2,
      "outputs": [
        {
          "output_type": "stream",
          "name": "stdout",
          "text": [
            "Downloading from https://www.kaggle.com/api/v1/datasets/download/landrykezebou/vcor-vehicle-color-recognition-dataset?dataset_version_number=1...\n"
          ]
        },
        {
          "output_type": "stream",
          "name": "stderr",
          "text": [
            "100%|██████████| 574M/574M [00:05<00:00, 108MB/s]"
          ]
        },
        {
          "output_type": "stream",
          "name": "stdout",
          "text": [
            "Extracting files...\n"
          ]
        },
        {
          "output_type": "stream",
          "name": "stderr",
          "text": [
            "\n"
          ]
        },
        {
          "output_type": "stream",
          "name": "stdout",
          "text": [
            "Path to dataset files: /root/.cache/kagglehub/datasets/landrykezebou/vcor-vehicle-color-recognition-dataset/versions/1\n"
          ]
        }
      ]
    },
    {
      "cell_type": "markdown",
      "source": [
        "##Verificando o dataset e adptando o para o modelo Yolo\n"
      ],
      "metadata": {
        "id": "YUgg8QGZbloR"
      }
    },
    {
      "cell_type": "code",
      "source": [
        "import os\n",
        "\n",
        "# Verificar a estrutura do dataset\n",
        "dataset_path = \"/root/.cache/kagglehub/datasets/landrykezebou/vcor-vehicle-color-recognition-dataset/versions/1\"\n",
        "for root, dirs, files in os.walk(dataset_path):\n",
        "    print(f\"Root: {root}\")\n",
        "    print(f\"Dirs: {dirs}\")\n",
        "    print(f\"Files: {files[:5]}\")  # Mostrar apenas os 5 primeiros arquivos"
      ],
      "metadata": {
        "colab": {
          "base_uri": "https://localhost:8080/"
        },
        "collapsed": true,
        "id": "w4Xhyw4bWZUl",
        "outputId": "e1f6da32-658b-46db-fd0f-ef737b2aefe6"
      },
      "execution_count": 3,
      "outputs": [
        {
          "output_type": "stream",
          "name": "stdout",
          "text": [
            "Root: /root/.cache/kagglehub/datasets/landrykezebou/vcor-vehicle-color-recognition-dataset/versions/1\n",
            "Dirs: ['test', 'train', 'val']\n",
            "Files: []\n",
            "Root: /root/.cache/kagglehub/datasets/landrykezebou/vcor-vehicle-color-recognition-dataset/versions/1/test\n",
            "Dirs: ['orange', 'brown', 'red', 'purple', 'silver', 'tan', 'yellow', 'beige', 'gold', 'green', 'black', 'white', 'blue', 'grey', 'pink']\n",
            "Files: []\n",
            "Root: /root/.cache/kagglehub/datasets/landrykezebou/vcor-vehicle-color-recognition-dataset/versions/1/test/orange\n",
            "Dirs: []\n",
            "Files: ['ebf177406e.jpg', 'c6c43da016.jpg', '0b538b22be.jpg', '5f7d080bfb.jpg', '1104c21047.jpg']\n",
            "Root: /root/.cache/kagglehub/datasets/landrykezebou/vcor-vehicle-color-recognition-dataset/versions/1/test/brown\n",
            "Dirs: []\n",
            "Files: ['378a5f4fd6.jpg', '5f39cea59f.jpg', '584364d3fe.jpg', '1d949385cb.jpg', '82b520a874.jpg']\n",
            "Root: /root/.cache/kagglehub/datasets/landrykezebou/vcor-vehicle-color-recognition-dataset/versions/1/test/red\n",
            "Dirs: []\n",
            "Files: ['a362535ff6.jpg', '6bfe720ee2.jpg', 'cd7d0a0137.jpg', '8022dd2e64.jpg', 'ef805191c2.jpg']\n",
            "Root: /root/.cache/kagglehub/datasets/landrykezebou/vcor-vehicle-color-recognition-dataset/versions/1/test/purple\n",
            "Dirs: []\n",
            "Files: ['6346f701f0.jpg', '915e06be35.jpg', 'bf29def25f.jpg', '1755c49ed5.jpg', '603a265f86.jpg']\n",
            "Root: /root/.cache/kagglehub/datasets/landrykezebou/vcor-vehicle-color-recognition-dataset/versions/1/test/silver\n",
            "Dirs: []\n",
            "Files: ['e8743c46e6.jpg', 'd07bc0c183.jpg', 'e1e2d70d44.jpg', '0978881df0.jpg', '45c8c7a94a.jpg']\n",
            "Root: /root/.cache/kagglehub/datasets/landrykezebou/vcor-vehicle-color-recognition-dataset/versions/1/test/tan\n",
            "Dirs: []\n",
            "Files: ['3ad0367b1b.jpg', '670bd06f5e.jpg', '96c421777a.jpg', '84cfcd8572.jpg', '3ee70cad50.jpg']\n",
            "Root: /root/.cache/kagglehub/datasets/landrykezebou/vcor-vehicle-color-recognition-dataset/versions/1/test/yellow\n",
            "Dirs: []\n",
            "Files: ['16ccc9c451.jpg', '13d8fbb189.jpg', 'aba6ab2189.jpg', 'ff029a0e58.jpg', '3604eb8fd2.jpg']\n",
            "Root: /root/.cache/kagglehub/datasets/landrykezebou/vcor-vehicle-color-recognition-dataset/versions/1/test/beige\n",
            "Dirs: []\n",
            "Files: ['ff6d882de5.jpg', 'da5a78d35c.jpg', 'c66e785e0e.jpg', '2bdc713fb1.jpg', '2e18679b94.jpg']\n",
            "Root: /root/.cache/kagglehub/datasets/landrykezebou/vcor-vehicle-color-recognition-dataset/versions/1/test/gold\n",
            "Dirs: []\n",
            "Files: ['ca436a466c.jpg', 'a577a6f6d1.jpg', '8f4466caea.jpg', '17795b1eac.jpg', 'c54b84cab5.jpg']\n",
            "Root: /root/.cache/kagglehub/datasets/landrykezebou/vcor-vehicle-color-recognition-dataset/versions/1/test/green\n",
            "Dirs: []\n",
            "Files: ['566c05bf37.jpg', '50bb5f0abc.jpg', '9f99025e1d.jpg', '66f040fa36.jpg', '151150bbb1.jpg']\n",
            "Root: /root/.cache/kagglehub/datasets/landrykezebou/vcor-vehicle-color-recognition-dataset/versions/1/test/black\n",
            "Dirs: []\n",
            "Files: ['ddfd228f69.jpg', '64590b8167.jpg', 'da31cf3e2b.jpg', '52e2308e4e.jpg', '2f9f999f61.jpg']\n",
            "Root: /root/.cache/kagglehub/datasets/landrykezebou/vcor-vehicle-color-recognition-dataset/versions/1/test/white\n",
            "Dirs: []\n",
            "Files: ['0af23aa4e0.jpg', '431ab251bd.jpg', '309da13e01.jpg', '6e7b33a43f.jpg', '47dccbe8ec.jpg']\n",
            "Root: /root/.cache/kagglehub/datasets/landrykezebou/vcor-vehicle-color-recognition-dataset/versions/1/test/blue\n",
            "Dirs: []\n",
            "Files: ['01401b6d76.jpg', '51288a8a92.jpg', 'fc673103fb.jpg', '1750ce8147.jpg', 'fc064ceb5d.jpg']\n",
            "Root: /root/.cache/kagglehub/datasets/landrykezebou/vcor-vehicle-color-recognition-dataset/versions/1/test/grey\n",
            "Dirs: []\n",
            "Files: ['1357369694.jpg', '55f7dfe92a.jpg', '83ec14d1b8.jpg', '6190c04421.jpg', 'fe3307a0d0.jpg']\n",
            "Root: /root/.cache/kagglehub/datasets/landrykezebou/vcor-vehicle-color-recognition-dataset/versions/1/test/pink\n",
            "Dirs: []\n",
            "Files: ['0caa3ce252.jpg', '829ba7ad32.jpg', 'b05c0e0287.jpg', '1b60b2d9b7.jpg', '42f3cd436d.jpg']\n",
            "Root: /root/.cache/kagglehub/datasets/landrykezebou/vcor-vehicle-color-recognition-dataset/versions/1/train\n",
            "Dirs: ['orange', 'brown', 'red', 'purple', 'silver', 'tan', 'yellow', 'beige', 'gold', 'green', 'black', 'white', 'blue', 'grey', 'pink']\n",
            "Files: []\n",
            "Root: /root/.cache/kagglehub/datasets/landrykezebou/vcor-vehicle-color-recognition-dataset/versions/1/train/orange\n",
            "Dirs: []\n",
            "Files: ['8abc24b776.jpg', 'bf3338124b.jpg', '431ca69ab7.jpg', 'cb393cfa12.jpg', '9c9e374970.jpg']\n",
            "Root: /root/.cache/kagglehub/datasets/landrykezebou/vcor-vehicle-color-recognition-dataset/versions/1/train/brown\n",
            "Dirs: []\n",
            "Files: ['d1750b303e.jpg', 'aea5d414a0.jpg', '83b4f21915.jpg', '1258311c01.jpg', '3f791bed52.jpg']\n",
            "Root: /root/.cache/kagglehub/datasets/landrykezebou/vcor-vehicle-color-recognition-dataset/versions/1/train/red\n",
            "Dirs: []\n",
            "Files: ['ae79a07c6e.jpg', 'cf8a3bc25d.jpg', '220b9ba339.jpg', '515cd078f6.jpg', 'cfdf9e8d21.jpg']\n",
            "Root: /root/.cache/kagglehub/datasets/landrykezebou/vcor-vehicle-color-recognition-dataset/versions/1/train/purple\n",
            "Dirs: []\n",
            "Files: ['1d3fffcfe6.jpg', '0b8c2c0348.jpg', 'afbdf9eb55.jpg', 'b8dc9a3199.jpg', '6ccf902e37.jpg']\n",
            "Root: /root/.cache/kagglehub/datasets/landrykezebou/vcor-vehicle-color-recognition-dataset/versions/1/train/silver\n",
            "Dirs: []\n",
            "Files: ['c3fca3c382.jpg', 'aa97bedc7b.jpg', '7169f1bd86.jpg', '9786053484.jpg', 'c260e91bba.jpg']\n",
            "Root: /root/.cache/kagglehub/datasets/landrykezebou/vcor-vehicle-color-recognition-dataset/versions/1/train/tan\n",
            "Dirs: []\n",
            "Files: ['5f3eb0d4dc.jpg', '9d852de88e.jpg', 'cf7b7162b5.jpg', '04f8819522.jpg', '355e01238b.jpg']\n",
            "Root: /root/.cache/kagglehub/datasets/landrykezebou/vcor-vehicle-color-recognition-dataset/versions/1/train/yellow\n",
            "Dirs: []\n",
            "Files: ['d0c7d5348f.jpg', '7a7937c364.jpg', '18facbe679.jpg', 'a8a95ad86c.jpg', '14ea2a4160.jpg']\n",
            "Root: /root/.cache/kagglehub/datasets/landrykezebou/vcor-vehicle-color-recognition-dataset/versions/1/train/beige\n",
            "Dirs: []\n",
            "Files: ['f445177a98.jpg', '9978a34b5d.jpg', '2a30680797.jpg', '57941256f2.jpg', '62a4f2db00.jpg']\n",
            "Root: /root/.cache/kagglehub/datasets/landrykezebou/vcor-vehicle-color-recognition-dataset/versions/1/train/gold\n",
            "Dirs: []\n",
            "Files: ['b807fb68b2.jpg', 'a633bb5bee.jpg', '5b4f9193c4.jpg', '6b925d29d0.jpg', '1490de534d.jpg']\n",
            "Root: /root/.cache/kagglehub/datasets/landrykezebou/vcor-vehicle-color-recognition-dataset/versions/1/train/green\n",
            "Dirs: []\n",
            "Files: ['6b9cc65bd2.jpg', '7d6d34606e.jpg', '621e0896a8.jpg', '13ea7ec6a6.jpg', '722beb7518.jpg']\n",
            "Root: /root/.cache/kagglehub/datasets/landrykezebou/vcor-vehicle-color-recognition-dataset/versions/1/train/black\n",
            "Dirs: []\n",
            "Files: ['94acd2334a.jpg', '97542eb6f4.jpg', 'c607f4ddcc.jpg', '2e0080b946.jpg', '25570b3b2b.jpg']\n",
            "Root: /root/.cache/kagglehub/datasets/landrykezebou/vcor-vehicle-color-recognition-dataset/versions/1/train/white\n",
            "Dirs: []\n",
            "Files: ['00c2507a7d.jpg', 'fcb6bfcb1a.jpg', 'c50e37fa3a.jpg', '5739db6b4f.jpg', '8ed68edb1b.jpg']\n",
            "Root: /root/.cache/kagglehub/datasets/landrykezebou/vcor-vehicle-color-recognition-dataset/versions/1/train/blue\n",
            "Dirs: []\n",
            "Files: ['ead82fec48.jpg', 'fee1e0b074.jpg', '603295d3ba.jpg', '8d179db453.jpg', '5ea1ad8bf9.jpg']\n",
            "Root: /root/.cache/kagglehub/datasets/landrykezebou/vcor-vehicle-color-recognition-dataset/versions/1/train/grey\n",
            "Dirs: []\n",
            "Files: ['c8ec8ce78f.jpg', '68dff0de46.jpg', 'fc8e727fdd.jpg', 'abc41efac0.jpg', 'ddbc05b996.jpg']\n",
            "Root: /root/.cache/kagglehub/datasets/landrykezebou/vcor-vehicle-color-recognition-dataset/versions/1/train/pink\n",
            "Dirs: []\n",
            "Files: ['f75316708b.jpg', 'e82991d059.jpg', 'cf604eeb38.jpg', '7faa0761fd.jpg', '234060ad40.jpg']\n",
            "Root: /root/.cache/kagglehub/datasets/landrykezebou/vcor-vehicle-color-recognition-dataset/versions/1/val\n",
            "Dirs: ['orange', 'brown', 'red', 'purple', 'silver', 'tan', 'yellow', 'beige', 'gold', 'green', 'black', 'white', 'blue', 'grey', 'pink']\n",
            "Files: []\n",
            "Root: /root/.cache/kagglehub/datasets/landrykezebou/vcor-vehicle-color-recognition-dataset/versions/1/val/orange\n",
            "Dirs: []\n",
            "Files: ['788108ae2f.jpg', 'f6aaf06153.jpg', '5b7e399513.jpg', 'ab53e4e47b.jpg', '952c35a3a7.jpg']\n",
            "Root: /root/.cache/kagglehub/datasets/landrykezebou/vcor-vehicle-color-recognition-dataset/versions/1/val/brown\n",
            "Dirs: []\n",
            "Files: ['3d07fc15e6.jpg', '9bb9734a8e.jpg', '7374351f6e.jpg', 'ac0509b7c4.jpg', '50845e0dd0.jpg']\n",
            "Root: /root/.cache/kagglehub/datasets/landrykezebou/vcor-vehicle-color-recognition-dataset/versions/1/val/red\n",
            "Dirs: []\n",
            "Files: ['0f659d6968.jpg', '9ea478b328.jpg', '923729d82c.jpg', 'ea923af98f.jpg', 'd10d4c2e2d.jpg']\n",
            "Root: /root/.cache/kagglehub/datasets/landrykezebou/vcor-vehicle-color-recognition-dataset/versions/1/val/purple\n",
            "Dirs: []\n",
            "Files: ['60e9498274.jpg', '4d09def6fb.jpg', '3ab1154f0a.jpg', '5f388b797f.jpg', '75aeda82c6.jpg']\n",
            "Root: /root/.cache/kagglehub/datasets/landrykezebou/vcor-vehicle-color-recognition-dataset/versions/1/val/silver\n",
            "Dirs: []\n",
            "Files: ['aca2a18d30.jpg', 'eb7c8c4fb5.jpg', '822bf5d088.jpg', 'efb9401a34.jpg', 'bd00f590d2.jpg']\n",
            "Root: /root/.cache/kagglehub/datasets/landrykezebou/vcor-vehicle-color-recognition-dataset/versions/1/val/tan\n",
            "Dirs: []\n",
            "Files: ['e7eabf93f8.jpg', 'd5068e21ab.jpg', '31555f86ad.jpg', '851db32162.jpg', '21a4f2d4dd.jpg']\n",
            "Root: /root/.cache/kagglehub/datasets/landrykezebou/vcor-vehicle-color-recognition-dataset/versions/1/val/yellow\n",
            "Dirs: []\n",
            "Files: ['1c15ede585.jpg', '0bd9025d5e.jpg', 'c23bb07d0d.jpg', 'c3319dbfbc.jpg', 'd96aa1e5e4.jpg']\n",
            "Root: /root/.cache/kagglehub/datasets/landrykezebou/vcor-vehicle-color-recognition-dataset/versions/1/val/beige\n",
            "Dirs: []\n",
            "Files: ['3b495070b3.jpg', 'b19f96fd93.jpg', '3710effc69.jpg', '93ec4f50b2.jpg', '5f79d270d7.jpg']\n",
            "Root: /root/.cache/kagglehub/datasets/landrykezebou/vcor-vehicle-color-recognition-dataset/versions/1/val/gold\n",
            "Dirs: []\n",
            "Files: ['b8d6e586b0.jpg', 'c1bd1e6c13.jpg', '58e789db6c.jpg', '32763128a4.jpg', '22878866b1.jpg']\n",
            "Root: /root/.cache/kagglehub/datasets/landrykezebou/vcor-vehicle-color-recognition-dataset/versions/1/val/green\n",
            "Dirs: []\n",
            "Files: ['2cc51dc020.jpg', '21d657f5c5.jpg', 'bc891ca2b3.jpg', '0877b187a9.jpg', '4e3a952bc0.jpg']\n",
            "Root: /root/.cache/kagglehub/datasets/landrykezebou/vcor-vehicle-color-recognition-dataset/versions/1/val/black\n",
            "Dirs: []\n",
            "Files: ['a23314586c.jpg', '663cc0212b.jpg', 'e5c62dc04e.jpg', '46c9e9bd28.jpg', '9efe8f2f94.jpg']\n",
            "Root: /root/.cache/kagglehub/datasets/landrykezebou/vcor-vehicle-color-recognition-dataset/versions/1/val/white\n",
            "Dirs: []\n",
            "Files: ['29c910544c.jpg', 'eea4425aa8.jpg', '265d25c10b.jpg', '0325913c50.jpg', 'b7f9e280a9.jpg']\n",
            "Root: /root/.cache/kagglehub/datasets/landrykezebou/vcor-vehicle-color-recognition-dataset/versions/1/val/blue\n",
            "Dirs: []\n",
            "Files: ['7e9217c325.jpg', '3c51e0a8e1.jpg', '9da1b8257f.jpg', 'b2b31a836d.jpg', '45e6ba0820.jpg']\n",
            "Root: /root/.cache/kagglehub/datasets/landrykezebou/vcor-vehicle-color-recognition-dataset/versions/1/val/grey\n",
            "Dirs: []\n",
            "Files: ['6bcbeec4da.jpg', '15d01b732c.jpg', 'b00081c316.jpg', 'cd68f43a31.jpg', '1d0f4184f4.jpg']\n",
            "Root: /root/.cache/kagglehub/datasets/landrykezebou/vcor-vehicle-color-recognition-dataset/versions/1/val/pink\n",
            "Dirs: []\n",
            "Files: ['00fa52892f.jpg', '897c7d8d05.jpg', 'b6a84d4dc5.jpg', 'f39f5c1819.jpg', '5cfc88c78c.jpg']\n"
          ]
        }
      ]
    },
    {
      "cell_type": "code",
      "source": [
        "import os\n",
        "\n",
        "def load_dataset(base_path):\n",
        "    data = []\n",
        "    for label in os.listdir(base_path):\n",
        "        label_path = os.path.join(base_path, label)\n",
        "        if os.path.isdir(label_path):\n",
        "            for file in os.listdir(label_path):\n",
        "                if file.endswith('jpg'):\n",
        "                    file_path = os.path.join(label_path, file)\n",
        "                    data.append((file_path, label))\n",
        "    return data\n",
        "\n",
        "#base path appra o conjunto de treino\n",
        "train_base_path = \"/root/.cache/kagglehub/datasets/landrykezebou/vcor-vehicle-color-recognition-dataset/versions/1/train\"\n",
        "train_data = load_dataset(train_base_path)\n",
        "\n",
        "print(train_data[:5])\n",
        "\n",
        "val_base_path = \"/root/.cache/kagglehub/datasets/landrykezebou/vcor-vehicle-color-recognition-dataset/versions/1/val\"\n",
        "val_data = load_dataset(val_base_path)\n",
        "\n",
        "print(val_data[:5])"
      ],
      "metadata": {
        "colab": {
          "base_uri": "https://localhost:8080/"
        },
        "id": "fsPMhW5YZD9b",
        "outputId": "ade2b65e-ff8a-4645-9a77-79d651eef80b"
      },
      "execution_count": 4,
      "outputs": [
        {
          "output_type": "stream",
          "name": "stdout",
          "text": [
            "[('/root/.cache/kagglehub/datasets/landrykezebou/vcor-vehicle-color-recognition-dataset/versions/1/train/orange/8abc24b776.jpg', 'orange'), ('/root/.cache/kagglehub/datasets/landrykezebou/vcor-vehicle-color-recognition-dataset/versions/1/train/orange/bf3338124b.jpg', 'orange'), ('/root/.cache/kagglehub/datasets/landrykezebou/vcor-vehicle-color-recognition-dataset/versions/1/train/orange/431ca69ab7.jpg', 'orange'), ('/root/.cache/kagglehub/datasets/landrykezebou/vcor-vehicle-color-recognition-dataset/versions/1/train/orange/cb393cfa12.jpg', 'orange'), ('/root/.cache/kagglehub/datasets/landrykezebou/vcor-vehicle-color-recognition-dataset/versions/1/train/orange/9c9e374970.jpg', 'orange')]\n",
            "[('/root/.cache/kagglehub/datasets/landrykezebou/vcor-vehicle-color-recognition-dataset/versions/1/val/orange/788108ae2f.jpg', 'orange'), ('/root/.cache/kagglehub/datasets/landrykezebou/vcor-vehicle-color-recognition-dataset/versions/1/val/orange/f6aaf06153.jpg', 'orange'), ('/root/.cache/kagglehub/datasets/landrykezebou/vcor-vehicle-color-recognition-dataset/versions/1/val/orange/5b7e399513.jpg', 'orange'), ('/root/.cache/kagglehub/datasets/landrykezebou/vcor-vehicle-color-recognition-dataset/versions/1/val/orange/ab53e4e47b.jpg', 'orange'), ('/root/.cache/kagglehub/datasets/landrykezebou/vcor-vehicle-color-recognition-dataset/versions/1/val/orange/952c35a3a7.jpg', 'orange')]\n"
          ]
        }
      ]
    },
    {
      "cell_type": "code",
      "source": [
        "color_mapping = {\n",
        "    \"purple\": 0, \"blue\": 1, \"green\": 2, \"red\": 3, \"tan\": 4,\n",
        "    \"white\": 5, \"grey\": 6, \"orange\": 7, \"beige\": 8, \"silver\": 9,\n",
        "    \"yellow\": 10, \"brown\": 11, \"black\": 12, \"pink\": 13, \"gold\": 14\n",
        "}"
      ],
      "metadata": {
        "id": "TdonKcEsjH_X"
      },
      "execution_count": 5,
      "outputs": []
    },
    {
      "cell_type": "code",
      "source": [
        "import os\n",
        "import shutil\n",
        "from PIL import ImageChops, Image\n",
        "\n",
        "#Diretorios de origem\n",
        "# Diretório raiz do dataset\n",
        "dataset_dir = \"/root/.cache/kagglehub/datasets/landrykezebou/vcor-vehicle-color-recognition-dataset/versions/1\"\n",
        "\n",
        "# Inicializar lista de dados\n",
        "data = []\n",
        "\n",
        "# Iterar pelas pastas de treino e validação\n",
        "for split in ['train', 'val', 'test']:\n",
        "    split_dir = os.path.join(dataset_dir, split)\n",
        "    for label in os.listdir(split_dir):  # Cada subpasta é uma classe\n",
        "        label_dir = os.path.join(split_dir, label)\n",
        "        for image_name in os.listdir(label_dir):\n",
        "            image_path = os.path.join(label_dir, image_name)\n",
        "            data.append((image_path, label))\n",
        "\n",
        "# Exibir os primeiros itens para validação\n",
        "print(data[:10])\n",
        "\n",
        "#classes e mapeamento de cores\n",
        "classes = ['purple', 'beige', 'tan', 'pink', 'gold', 'silver',  'blue', 'red', 'yellow', 'white', 'black', 'grey', 'green', 'orange', 'brown']\n",
        "class_to_id = {cls: idx for idx, cls in enumerate(classes)}\n",
        "\n",
        "#diretorios de destino\n",
        "output_dir = \"yolo_dataset\"\n",
        "image_dir = os.path.join(output_dir, \"images\")\n",
        "label_dir = os.path.join(output_dir, \"labels\")\n",
        "\n",
        "train_img_dir = os.path.join(image_dir, \"train\")\n",
        "val_img_dir = os.path.join(image_dir, \"val\")\n",
        "train_label_dir = os.path.join(label_dir, \"train\")\n",
        "val_label_dir = os.path.join(label_dir, \"val\")\n",
        "test_img_dir = os.path.join(image_dir, \"test\")\n",
        "test_label_dir = os.path.join(label_dir, \"test\")\n",
        "\n",
        "#criação das pastas de cada um\n",
        "os.makedirs(train_img_dir, exist_ok=True)\n",
        "os.makedirs(val_img_dir, exist_ok=True)\n",
        "os.makedirs(test_img_dir, exist_ok=True)\n",
        "os.makedirs(train_label_dir, exist_ok=True)\n",
        "os.makedirs(val_label_dir, exist_ok=True)\n",
        "os.makedirs(test_label_dir, exist_ok=True)\n",
        "\n",
        "#Função que transformar anotações em formato YOLO\n",
        "def create_yolo_label(image_path, label, label_dir):\n",
        "    #abrir imagem para pegpar as dimensões\n",
        "    with Image.open(image_path) as img:\n",
        "        width, height = img.size\n",
        "\n",
        "    # YOLO espera coordenadas normalizadas (aqui como classificação, centro é 0.5,0.5 e dimensão total)\n",
        "    class_id = class_to_id[label]\n",
        "    center_x, center_y = 0.5, 0.5\n",
        "    obj_width, obj_height = 1.0, 1.0  # Imagem inteira, pois é uma classificação\n",
        "\n",
        "    # Escrever o arquivo de anotação\n",
        "    image_name = os.path.splitext(os.path.basename(image_path))[0]\n",
        "    label_path = os.path.join(label_dir, f\"{image_name}.txt\")\n",
        "    with open(label_path, \"w\") as f:\n",
        "        f.write(f\"{class_id} {center_x} {center_y} {obj_width} {obj_height}\\n\")\n",
        "\n",
        "# Separar dados entre treino, validação e teste\n",
        "for image_path, label in data:\n",
        "    if \"train\" in image_path:\n",
        "        dest_img_dir = train_img_dir\n",
        "        dest_label_dir = train_label_dir\n",
        "    elif \"val\" in image_path:\n",
        "        dest_img_dir = val_img_dir\n",
        "        dest_label_dir = val_label_dir\n",
        "    elif \"test\" in image_path:\n",
        "        dest_img_dir = test_img_dir\n",
        "        dest_label_dir = test_label_dir\n",
        "    else:\n",
        "        continue  # Ignorar se não for treino, validação ou teste\n",
        "\n",
        "    # Copiar imagem e criar anotação\n",
        "    dest_path = os.path.join(dest_img_dir, os.path.basename(image_path))\n",
        "    shutil.copy(image_path, dest_path)\n",
        "    create_yolo_label(image_path, label, dest_label_dir)\n",
        "\n",
        "# Criar o arquivo data.yaml\n",
        "data_yaml_path = os.path.join(output_dir, \"data.yaml\")\n",
        "with open(data_yaml_path, \"w\") as f:\n",
        "    f.write(f\"train: {os.path.abspath(train_img_dir)}\\n\")\n",
        "    f.write(f\"val: {os.path.abspath(val_img_dir)}\\n\")\n",
        "    f.write(f\"test: {os.path.abspath(test_img_dir)}\\n\")\n",
        "    f.write(\"nc: {}\\n\".format(len(classes)))\n",
        "    f.write(f\"names: {classes}\\n\")\n",
        "\n",
        "print(f\"Conversão para YOLOv8 concluída. Dados salvos em: {output_dir}\")\n",
        "\n",
        "\n",
        "\n"
      ],
      "metadata": {
        "colab": {
          "base_uri": "https://localhost:8080/"
        },
        "id": "boeotrx5lZYj",
        "outputId": "143550a4-1919-40e6-ef60-aeec4390d387"
      },
      "execution_count": 6,
      "outputs": [
        {
          "output_type": "stream",
          "name": "stdout",
          "text": [
            "[('/root/.cache/kagglehub/datasets/landrykezebou/vcor-vehicle-color-recognition-dataset/versions/1/train/orange/8abc24b776.jpg', 'orange'), ('/root/.cache/kagglehub/datasets/landrykezebou/vcor-vehicle-color-recognition-dataset/versions/1/train/orange/bf3338124b.jpg', 'orange'), ('/root/.cache/kagglehub/datasets/landrykezebou/vcor-vehicle-color-recognition-dataset/versions/1/train/orange/431ca69ab7.jpg', 'orange'), ('/root/.cache/kagglehub/datasets/landrykezebou/vcor-vehicle-color-recognition-dataset/versions/1/train/orange/cb393cfa12.jpg', 'orange'), ('/root/.cache/kagglehub/datasets/landrykezebou/vcor-vehicle-color-recognition-dataset/versions/1/train/orange/9c9e374970.jpg', 'orange'), ('/root/.cache/kagglehub/datasets/landrykezebou/vcor-vehicle-color-recognition-dataset/versions/1/train/orange/7faa08efdd.jpg', 'orange'), ('/root/.cache/kagglehub/datasets/landrykezebou/vcor-vehicle-color-recognition-dataset/versions/1/train/orange/b25debdc55.jpg', 'orange'), ('/root/.cache/kagglehub/datasets/landrykezebou/vcor-vehicle-color-recognition-dataset/versions/1/train/orange/4139927522.jpg', 'orange'), ('/root/.cache/kagglehub/datasets/landrykezebou/vcor-vehicle-color-recognition-dataset/versions/1/train/orange/da88320ec7.jpg', 'orange'), ('/root/.cache/kagglehub/datasets/landrykezebou/vcor-vehicle-color-recognition-dataset/versions/1/train/orange/107edc0a4a.jpg', 'orange')]\n",
            "Conversão para YOLOv8 concluída. Dados salvos em: yolo_dataset\n"
          ]
        }
      ]
    },
    {
      "cell_type": "markdown",
      "source": [],
      "metadata": {
        "id": "0NZ3qJ7fbJZv"
      }
    }
  ]
}